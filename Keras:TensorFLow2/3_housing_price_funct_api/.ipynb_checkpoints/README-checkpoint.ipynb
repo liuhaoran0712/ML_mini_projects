{
 "cells": [
  {
   "cell_type": "markdown",
   "metadata": {},
   "source": [
    "# House pricing prediction using shallow ANN and functional api in Keras: TensorFlow\n",
    "- Multi-input, multi-output regression with wide and deep ANNs are implemented.  \n",
    "- Possiblity of using a __subclass__ API is also dicussed towards the end.\n",
    "- Using __callbacks__ method to save checkpoints and early termination of training is discussed.\n",
    "- __TensorBoard__- for visualization is discussed.\n",
    "- A section on __hyperparameter tuning__ like deciding on number of deep layers, no. of neutrons in each layer, etc.  \n",
    "- This is a practice project where a shallow ANN is trained and  deployed for predicting **housing prices**  based on  the California Housing Prices dataset from the StatLib repository2. This dataset is based on data from the 1990 California census. \n",
    "- The project follows the suggestions from Chapter 10 of “Hands-On Machine Learning with Scikit-Learn, Keras, and TensorFlow, 2nd Edition, by Aurélien Géron (O’Reilly). Copyright 2019 Kiwisoft S.A.S., 978-1-492-03264-9.” \n"
   ]
  },
  {
   "cell_type": "code",
   "execution_count": null,
   "metadata": {},
   "outputs": [],
   "source": []
  }
 ],
 "metadata": {
  "kernelspec": {
   "display_name": "Python 3",
   "language": "python",
   "name": "python3"
  },
  "language_info": {
   "codemirror_mode": {
    "name": "ipython",
    "version": 3
   },
   "file_extension": ".py",
   "mimetype": "text/x-python",
   "name": "python",
   "nbconvert_exporter": "python",
   "pygments_lexer": "ipython3",
   "version": "3.8.3"
  }
 },
 "nbformat": 4,
 "nbformat_minor": 4
}
