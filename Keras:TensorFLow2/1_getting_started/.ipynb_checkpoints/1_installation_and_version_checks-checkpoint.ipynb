{
 "cells": [
  {
   "cell_type": "markdown",
   "metadata": {},
   "source": [
    "# Installation guide for Keras with TensorFlow backend"
   ]
  },
  {
   "cell_type": "markdown",
   "metadata": {},
   "source": [
    "## Installation"
   ]
  },
  {
   "cell_type": "markdown",
   "metadata": {},
   "source": [
    "- Installation guide for tf.keras module based on TensorFlow version >2. \n",
    "- Assuming that anaconda is not installed:\n",
    "    - if not install anaconda following [this.](https://docs.anaconda.com/anaconda/install/linux/)\n",
    "- Installing tf for cpu only(recommended for beginners):\n",
    "```\n",
    "conda create -n tf tensorflow\n",
    "conda activate tf\n",
    "```\n",
    "- All dependency packages like latest version of python, numpy, scipi etc comes in the bundle.\n",
    "- Might want to install jupyter notebook in the new environment if you prefer working on notebooks.  \n",
    "    ` conda install jupyter`\n",
    "- Install matplotlib for image visualization.  \n",
    "    `conda install matplotlib`\n",
    "- Install pandas to handle data frames, if not installed.  \n",
    "    `conda install pandsas`\n",
    "\n"
   ]
  },
  {
   "cell_type": "markdown",
   "metadata": {},
   "source": [
    "## Checking version\n"
   ]
  },
  {
   "cell_type": "code",
   "execution_count": 1,
   "metadata": {},
   "outputs": [
    {
     "name": "stdout",
     "output_type": "stream",
     "text": [
      "tf version: 2.2.0\n",
      "keras version: 2.3.0-tf\n"
     ]
    }
   ],
   "source": [
    "import tensorflow as tf\n",
    "from tensorflow import keras\n",
    "\n",
    "print(\"tf version: {}\".format(tf.__version__))\n",
    "print(\"keras version: {}\".format(keras.__version__))"
   ]
  },
  {
   "cell_type": "markdown",
   "metadata": {},
   "source": [
    "## Following the order"
   ]
  },
  {
   "cell_type": "markdown",
   "metadata": {},
   "source": [
    "Please follow the integer indexing for traversing the folders and subfolder if you are here for exploring for the first time. "
   ]
  },
  {
   "cell_type": "code",
   "execution_count": null,
   "metadata": {},
   "outputs": [],
   "source": []
  }
 ],
 "metadata": {
  "kernelspec": {
   "display_name": "Python 3",
   "language": "python",
   "name": "python3"
  },
  "language_info": {
   "codemirror_mode": {
    "name": "ipython",
    "version": 3
   },
   "file_extension": ".py",
   "mimetype": "text/x-python",
   "name": "python",
   "nbconvert_exporter": "python",
   "pygments_lexer": "ipython3",
   "version": "3.8.3"
  }
 },
 "nbformat": 4,
 "nbformat_minor": 4
}
