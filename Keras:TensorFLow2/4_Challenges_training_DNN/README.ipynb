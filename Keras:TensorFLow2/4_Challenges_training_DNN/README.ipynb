{
 "cells": [
  {
   "cell_type": "markdown",
   "metadata": {},
   "source": [
    "# Challenges in training Deep Neural Networks "
   ]
  },
  {
   "cell_type": "markdown",
   "metadata": {},
   "source": [
    "###  What is assumed?"
   ]
  },
  {
   "cell_type": "markdown",
   "metadata": {},
   "source": [
    "- At this point, we assume that you have gone through all the previous notebooks in the order and are comfortable with training a shallow neural network using Keras.\n"
   ]
  },
  {
   "cell_type": "markdown",
   "metadata": {},
   "source": [
    "###  Why this section ?"
   ]
  },
  {
   "cell_type": "markdown",
   "metadata": {},
   "source": [
    "- In practice, while training a deep neural network (ANNs with higher number of layers), you might run into some hurdles. \n",
    "- Since more often that not we problems we are trying to solve/predict are complex enought to warrant for a deep neural network, its worth addressing the issues with training of deep neural nets and how to rectify these issues.\n",
    "- In particular we discuss the theoretical strategies to tackle this issues and how to implement these strategies using Keras.\n",
    "- This section takes most of the material and example from Chapter.11 of “ Chapter 10 : Hands-On Machine Learning with Scikit-Learn, Keras, and TensorFlow, 2nd Edition, by Aurélien Géron (O’Reilly). Copyright 2019 Kiwisoft S.A.S., 978-1-492-03264-9.”. \n",
    "- As always, we are skipping the mathematical justification behind each strategy and instead focus on implementation. The book mentioned above has excellent references (mostly publications where these results are published). So if you feel like you need the mathematical reasoning behind any of the strategies, I would strongly encourage you to take a look at these references. \n",
    "- Note that we wont be doing an end to end modelling and training and hence this section is a fairly short read."
   ]
  },
  {
   "cell_type": "markdown",
   "metadata": {},
   "source": [
    "### What are the challenges in training DNNs (Deep Neural Networks)?"
   ]
  },
  {
   "cell_type": "markdown",
   "metadata": {},
   "source": [
    "We address the following issues:  \n",
    "- Problem of vanishing/exploding gradients. (Folder 1_*)\n",
    "- Reusing already trained networks to efficiently form a new deeper NN. (Folder 2_*)\n",
    "- Need for Faster optimizers (something better than the usual SGD). (Folder 3_*)\n",
    "- How to avoid __overfitting__ using regularization techniques. (Folder 4_*)"
   ]
  },
  {
   "cell_type": "code",
   "execution_count": null,
   "metadata": {},
   "outputs": [],
   "source": []
  }
 ],
 "metadata": {
  "kernelspec": {
   "display_name": "Python 3",
   "language": "python",
   "name": "python3"
  },
  "language_info": {
   "codemirror_mode": {
    "name": "ipython",
    "version": 3
   },
   "file_extension": ".py",
   "mimetype": "text/x-python",
   "name": "python",
   "nbconvert_exporter": "python",
   "pygments_lexer": "ipython3",
   "version": "3.8.3"
  }
 },
 "nbformat": 4,
 "nbformat_minor": 4
}
