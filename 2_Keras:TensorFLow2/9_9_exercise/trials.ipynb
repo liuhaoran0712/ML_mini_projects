{
 "cells": [
  {
   "cell_type": "markdown",
   "metadata": {},
   "source": [
    "# Random trials to understand functioning of Keras APIs"
   ]
  },
  {
   "cell_type": "markdown",
   "metadata": {},
   "source": [
    "### Importing all the packages"
   ]
  },
  {
   "cell_type": "code",
   "execution_count": 1,
   "metadata": {},
   "outputs": [],
   "source": [
    "import numpy as np\n",
    "import pandas as pd\n",
    "import matplotlib.pyplot as plt\n",
    "\n",
    "import tensorflow as tf\n",
    "from tensorflow import keras"
   ]
  },
  {
   "cell_type": "code",
   "execution_count": 2,
   "metadata": {},
   "outputs": [],
   "source": [
    "dummy_input = np.ones((10,3)) #batch_size =10, attribute size = 3\n",
    "dummy_input_layer = keras.layers.Input(shape=(3,),name=\"first_input\")\n",
    "dummy_dense_layer = keras.layers.Dense(3,name=\"dummy_dense\")(dummy_input_layer)\n",
    "dummy_model = keras.Model(dummy_input_layer,dummy_dense_layer)"
   ]
  },
  {
   "cell_type": "code",
   "execution_count": 3,
   "metadata": {},
   "outputs": [
    {
     "name": "stdout",
     "output_type": "stream",
     "text": [
      "Epoch 1/2\n",
      "1/1 [==============================] - 0s 12ms/step - loss: 0.3099\n",
      "Epoch 2/2\n",
      "1/1 [==============================] - 0s 1ms/step - loss: 0.2962\n"
     ]
    }
   ],
   "source": [
    "dummy_output = np.zeros((10,1))\n",
    "dummy_model.compile(loss=\"mse\")\n",
    "history_dum_2 = dummy_model.fit(dummy_input,dummy_output,epochs=2)"
   ]
  },
  {
   "cell_type": "code",
   "execution_count": 4,
   "metadata": {},
   "outputs": [
    {
     "name": "stdout",
     "output_type": "stream",
     "text": [
      "Model: \"model\"\n",
      "_________________________________________________________________\n",
      "Layer (type)                 Output Shape              Param #   \n",
      "=================================================================\n",
      "first_input (InputLayer)     [(None, 3)]               0         \n",
      "_________________________________________________________________\n",
      "dummy_dense (Dense)          (None, 3)                 12        \n",
      "=================================================================\n",
      "Total params: 12\n",
      "Trainable params: 12\n",
      "Non-trainable params: 0\n",
      "_________________________________________________________________\n"
     ]
    }
   ],
   "source": [
    "dummy_model.summary()"
   ]
  },
  {
   "cell_type": "code",
   "execution_count": 6,
   "metadata": {},
   "outputs": [
    {
     "name": "stdout",
     "output_type": "stream",
     "text": [
      "tf.Tensor(\n",
      "[[[-1.]\n",
      "  [-1.]]\n",
      "\n",
      " [[-1.]\n",
      "  [-1.]]\n",
      "\n",
      " [[-1.]\n",
      "  [-1.]]\n",
      "\n",
      " [[-1.]\n",
      "  [-1.]]\n",
      "\n",
      " [[-1.]\n",
      "  [-1.]]], shape=(5, 2, 1), dtype=float32)\n"
     ]
    }
   ],
   "source": [
    "np.random.seed(123)\n",
    "act_layer = keras.layers.Activation(\"relu\")\n",
    "dummy_input = tf.constant(-1*np.ones((5,2,1)),dtype=float)\n",
    "print(dummy_input)\n",
    "# act_layer(dummy_input)"
   ]
  },
  {
   "cell_type": "code",
   "execution_count": 18,
   "metadata": {},
   "outputs": [
    {
     "data": {
      "text/plain": [
       "<tf.Tensor: shape=(10,), dtype=float32, numpy=array([ 0.,  1.,  4.,  9., 16., 25., 36., 49., 64., 81.], dtype=float32)>"
      ]
     },
     "execution_count": 18,
     "metadata": {},
     "output_type": "execute_result"
    }
   ],
   "source": [
    "np.random.seed(123)\n",
    "lamba_layer = keras.layers.Lambda(tf.square)\n",
    "dummy_input = tf.constant(np.arange(10),dtype=float)\n",
    "lamba_layer(dummy_input)\n"
   ]
  },
  {
   "cell_type": "code",
   "execution_count": 76,
   "metadata": {},
   "outputs": [],
   "source": [
    "from tensorflow.keras import backend as K\n",
    "dummy_input = tf.constant(np.arange(5).reshape((5,1)),dtype=float)\n",
    "input_layer = tf.keras.layers.Input(shape=(1,),name=\"main_input\")\n",
    "square_layer = keras.layers.Lambda(tf.square)(input_layer)\n",
    "\n",
    "# model = keras.Model(inputs=[dummy_input], outputs=[gradient_layer])"
   ]
  },
  {
   "cell_type": "code",
   "execution_count": 84,
   "metadata": {},
   "outputs": [],
   "source": [
    "class GradLayer(keras.layers.Layer):\n",
    "    def __init__(self,**kwargs):\n",
    "        super(GradLayer, self).__init__(**kwargs)\n",
    "        self.org_input = tf.constant(np.arange(10),dtype=float)\n",
    "    def call(self, inputs):\n",
    "        return tf.gradients(inputs,self.org_input)\n"
   ]
  },
  {
   "cell_type": "code",
   "execution_count": 110,
   "metadata": {},
   "outputs": [],
   "source": [
    "output_layer = GradLayer()"
   ]
  },
  {
   "cell_type": "markdown",
   "metadata": {},
   "source": [
    "## Creating a custom model"
   ]
  },
  {
   "cell_type": "code",
   "execution_count": 116,
   "metadata": {},
   "outputs": [],
   "source": [
    "class CustomModel(keras.Model):\n",
    "    def __init__(self, **kwargs):\n",
    "        super().__init__(**kwargs)\n",
    "        self.input_layer = tf.keras.layers.Input(shape=(1,),name=\"main_input\")\n",
    "#         self.square_layer = keras.layers.Lambda(tf.square)(input_layer)\n",
    "    def call(self, inputs):\n",
    "        Z = self.input_layer(inputs)\n",
    "#         square = self.square_layer(Z)\n",
    "        return Z"
   ]
  },
  {
   "cell_type": "code",
   "execution_count": 117,
   "metadata": {},
   "outputs": [],
   "source": [
    "custom_model = CustomModel()\n",
    "seq_model = keras.Sequential()"
   ]
  },
  {
   "cell_type": "code",
   "execution_count": 118,
   "metadata": {},
   "outputs": [],
   "source": [
    "dummy_input = np.arange(5).reshape((5,1))\n",
    "dummy_output = np.zeros((5,1))"
   ]
  },
  {
   "cell_type": "code",
   "execution_count": 242,
   "metadata": {},
   "outputs": [],
   "source": [
    "class GradLayer(keras.layers.Layer):\n",
    "    def __init__(self,**kwargs):\n",
    "        super(GradLayer, self).__init__(**kwargs)\n",
    "#         self.org_input = tf.constant(np.arange(10),dtype=float)\n",
    "    def call(self, inputs,orig_input):\n",
    "        return tf.keras.backend.gradients(inputs,orig_input)"
   ]
  },
  {
   "cell_type": "code",
   "execution_count": 345,
   "metadata": {},
   "outputs": [],
   "source": [
    "class CustomModel(tf.keras.Model):\n",
    "\n",
    "  def __init__(self):\n",
    "    super(CustomModel, self).__init__()\n",
    "    self.dense0 = keras.layers.Dense(10)\n",
    "#     self.dense1 = tf.keras.layers.Dense(4, activation=tf.nn.relu)\n",
    "#     self.dense2 = tf.keras.layers.Dense(5, activation=tf.nn.softmax)\n",
    "    self.square_layer = keras.layers.Lambda(tf.square)\n",
    "    self.dense1 = tf.keras.layers.Dense(1)\n",
    "#     self.grad_layer = GradLayer()\n",
    "\n",
    "  def call(self, inputs):\n",
    "    Z = self.dense0(inputs)\n",
    "    x = self.square_layer(Z)\n",
    "#     return self.dense2(x)\n",
    "#     print(\"\\n\\n\\n this is the answer:\",self.square_layer(inputs))\n",
    "#     print(\"hre is a break\")\n",
    "    return self.dense1(x)\n",
    "    \n",
    "\n",
    "custom_model = CustomModel()"
   ]
  },
  {
   "cell_type": "code",
   "execution_count": 346,
   "metadata": {},
   "outputs": [],
   "source": [
    "custom_model.compile()"
   ]
  },
  {
   "cell_type": "code",
   "execution_count": 347,
   "metadata": {},
   "outputs": [
    {
     "data": {
      "text/plain": [
       "array([[ 0.        ],\n",
       "       [-0.02545756],\n",
       "       [-0.10183023],\n",
       "       [-0.22911838],\n",
       "       [-0.40732092]], dtype=float32)"
      ]
     },
     "execution_count": 347,
     "metadata": {},
     "output_type": "execute_result"
    }
   ],
   "source": [
    "custom_model.predict(dummy_input)"
   ]
  },
  {
   "cell_type": "code",
   "execution_count": 250,
   "metadata": {
    "scrolled": false
   },
   "outputs": [
    {
     "name": "stdout",
     "output_type": "stream",
     "text": [
      "1/1 [==============================] - 0s 1ms/step - loss: 0.0000e+00\n"
     ]
    },
    {
     "data": {
      "text/plain": [
       "<tensorflow.python.keras.callbacks.History at 0x7f0f711c3070>"
      ]
     },
     "execution_count": 250,
     "metadata": {},
     "output_type": "execute_result"
    }
   ],
   "source": [
    "custom_model.fit(dummy_input,dummy_output)"
   ]
  },
  {
   "cell_type": "code",
   "execution_count": 251,
   "metadata": {},
   "outputs": [
    {
     "data": {
      "text/plain": [
       "array([[ 0],\n",
       "       [ 1],\n",
       "       [ 4],\n",
       "       [ 9],\n",
       "       [16]])"
      ]
     },
     "execution_count": 251,
     "metadata": {},
     "output_type": "execute_result"
    }
   ],
   "source": [
    "custom_model.predict(dummy_input)"
   ]
  },
  {
   "cell_type": "code",
   "execution_count": 256,
   "metadata": {},
   "outputs": [
    {
     "name": "stdout",
     "output_type": "stream",
     "text": [
      "Model: \"custom_model_40\"\n",
      "_________________________________________________________________\n",
      "Layer (type)                 Output Shape              Param #   \n",
      "=================================================================\n",
      "lambda_76 (Lambda)           multiple                  0         \n",
      "=================================================================\n",
      "Total params: 0\n",
      "Trainable params: 0\n",
      "Non-trainable params: 0\n",
      "_________________________________________________________________\n"
     ]
    }
   ],
   "source": [
    "custom_model.summary()"
   ]
  }
 ],
 "metadata": {
  "kernelspec": {
   "display_name": "Python 3",
   "language": "python",
   "name": "python3"
  },
  "language_info": {
   "codemirror_mode": {
    "name": "ipython",
    "version": 3
   },
   "file_extension": ".py",
   "mimetype": "text/x-python",
   "name": "python",
   "nbconvert_exporter": "python",
   "pygments_lexer": "ipython3",
   "version": "3.8.3"
  }
 },
 "nbformat": 4,
 "nbformat_minor": 4
}
