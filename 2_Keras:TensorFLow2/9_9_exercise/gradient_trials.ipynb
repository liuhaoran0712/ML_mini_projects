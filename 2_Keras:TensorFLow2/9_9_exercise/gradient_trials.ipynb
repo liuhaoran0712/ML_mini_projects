{
 "cells": [
  {
   "cell_type": "code",
   "execution_count": 53,
   "metadata": {},
   "outputs": [],
   "source": [
    "import tensorflow as tf\n",
    "from tensorflow import keras\n",
    "from tensorflow.keras.models import *\n",
    "from tensorflow.keras.layers import *\n",
    "from tensorflow.keras import backend as K\n",
    "import numpy as np\n",
    "\n",
    "def grad( y, x ):\n",
    "    return Lambda( lambda z: K.gradients( z[ 0 ], z[ 1 ] ), output_shape = [1] )( [ y, x ] )\n",
    "\n",
    "def network( i ):\n",
    "    a = Lambda(lambda x: K.log( x + 2 ) )( i )\n",
    "    return a\n",
    "\n",
    "fixed_input = Input(shape=(1,))\n",
    "# double = Input(tensor=tf.Variable( [ 2.0 ] ) )\n",
    "unit_activation = tf.keras.initializers.Ones()\n",
    "dense_dummy_layer = keras.layers.Dense(units=1,use_bias=False,\n",
    "                                      kernel_initializer=unit_activation)(fixed_input)\n",
    "# a = network(fixed_input)\n",
    "a = network(dense_dummy_layer)\n",
    "\n",
    "b = grad( a, fixed_input )\n",
    "c = grad( b, fixed_input )\n",
    "# d = grad( c, fixed_input )\n",
    "# e = grad( d, fixed_input )\n"
   ]
  },
  {
   "cell_type": "code",
   "execution_count": 166,
   "metadata": {},
   "outputs": [],
   "source": [
    "x = np.array([[1],\n",
    "            [2],\n",
    "            [3]])\n",
    "model = Model( inputs = [ fixed_input], outputs = [ a,b] )\n",
    "\n"
   ]
  },
  {
   "cell_type": "code",
   "execution_count": 167,
   "metadata": {},
   "outputs": [
    {
     "name": "stdout",
     "output_type": "stream",
     "text": [
      "Model: \"model_32\"\n",
      "__________________________________________________________________________________________________\n",
      "Layer (type)                    Output Shape         Param #     Connected to                     \n",
      "==================================================================================================\n",
      "input_61 (InputLayer)           [(None, 2)]          0                                            \n",
      "__________________________________________________________________________________________________\n",
      "lambda_116 (Lambda)             (None,)              0           input_61[0][0]                   \n",
      "__________________________________________________________________________________________________\n",
      "lambda_117 (Lambda)             [(None, 2)]          0           lambda_116[0][0]                 \n",
      "                                                                 input_61[0][0]                   \n",
      "==================================================================================================\n",
      "Total params: 0\n",
      "Trainable params: 0\n",
      "Non-trainable params: 0\n",
      "__________________________________________________________________________________________________\n"
     ]
    }
   ],
   "source": [
    "model.summary()"
   ]
  },
  {
   "cell_type": "code",
   "execution_count": null,
   "metadata": {},
   "outputs": [],
   "source": []
  },
  {
   "cell_type": "code",
   "execution_count": 56,
   "metadata": {},
   "outputs": [
    {
     "name": "stdout",
     "output_type": "stream",
     "text": [
      "[array([[1.0986123],\n",
      "       [1.3862944],\n",
      "       [1.609438 ]], dtype=float32), [array([[0.33333334],\n",
      "       [0.25      ],\n",
      "       [0.2       ]], dtype=float32)], [array([[-0.11111112],\n",
      "       [-0.0625    ],\n",
      "       [-0.04      ]], dtype=float32)]]\n"
     ]
    }
   ],
   "source": [
    "print( model.predict( x, steps = 1 ) )"
   ]
  },
  {
   "cell_type": "code",
   "execution_count": 64,
   "metadata": {},
   "outputs": [
    {
     "name": "stdout",
     "output_type": "stream",
     "text": [
      "1.0986122886681098 0.3333333333333333 -0.1111111111111111\n",
      "1.3862943611198906 0.25 -0.0625\n",
      "1.6094379124341003 0.2 -0.04\n"
     ]
    }
   ],
   "source": [
    "for i in range(1,4):\n",
    "    print(np.log(i+2),1/(i+2),-1/(i+2)**2)"
   ]
  },
  {
   "cell_type": "markdown",
   "metadata": {},
   "source": [
    "### Trying new things"
   ]
  },
  {
   "cell_type": "code",
   "execution_count": 168,
   "metadata": {},
   "outputs": [],
   "source": [
    "import tensorflow as tf\n",
    "from tensorflow import keras\n",
    "from tensorflow.keras.models import *\n",
    "from tensorflow.keras.layers import *\n",
    "from tensorflow.keras import backend as K\n",
    "import numpy as np\n",
    "\n",
    "def grad( y, x ):\n",
    "    return Lambda( lambda z: K.gradients( z[ 0 ], z[ 1 ] ))( [ y, x ] )\n",
    "\n",
    "def network( i ):\n",
    "    a = Lambda(lambda x: K.log( x + 2 ) )( i )\n",
    "    return a\n",
    "\n",
    "fixed_input = Input(shape=(2,))\n",
    "# double = Input(tensor=tf.Variable( [ 2.0 ] ) )\n",
    "unit_activation = tf.keras.initializers.Ones()\n",
    "# dense_dummy_layer = keras.layers.Dense(units=2,use_bias=False,\n",
    "#                                       kernel_initializer=unit_activation)(fixed_input)\n",
    "# a = network(fixed_input)\n",
    "# a = network(dense_dummy_layer)\n",
    "a = Lambda(lambda x:K.log(x[:,0]+2)+ 10*x[:,1]) (fixed_input)\n",
    "\n",
    "# taking derrivative with respect to secon variable\n",
    "b = keras.layers.Lambda(lambda z: K.gradients(z[0],z[1])) ([a,fixed_input])\n",
    "# c = grad( b, fixed_input )\n",
    "# d = grad( c, fixed_input )\n",
    "# e = grad( d, fixed_input )\n"
   ]
  },
  {
   "cell_type": "code",
   "execution_count": 169,
   "metadata": {},
   "outputs": [],
   "source": [
    "x = np.array([[1,1],\n",
    "            [2,2],\n",
    "            [3,3]])\n",
    "model = Model( inputs = [ fixed_input], outputs = [ b] )\n"
   ]
  },
  {
   "cell_type": "code",
   "execution_count": 170,
   "metadata": {},
   "outputs": [
    {
     "name": "stdout",
     "output_type": "stream",
     "text": [
      "Model: \"model_33\"\n",
      "__________________________________________________________________________________________________\n",
      "Layer (type)                    Output Shape         Param #     Connected to                     \n",
      "==================================================================================================\n",
      "input_62 (InputLayer)           [(None, 2)]          0                                            \n",
      "__________________________________________________________________________________________________\n",
      "lambda_118 (Lambda)             (None,)              0           input_62[0][0]                   \n",
      "__________________________________________________________________________________________________\n",
      "lambda_119 (Lambda)             [(None, 2)]          0           lambda_118[0][0]                 \n",
      "                                                                 input_62[0][0]                   \n",
      "==================================================================================================\n",
      "Total params: 0\n",
      "Trainable params: 0\n",
      "Non-trainable params: 0\n",
      "__________________________________________________________________________________________________\n"
     ]
    }
   ],
   "source": [
    "model.summary()"
   ]
  },
  {
   "cell_type": "markdown",
   "metadata": {
    "collapsed": true
   },
   "source": [
    "# model.summary()"
   ]
  },
  {
   "cell_type": "code",
   "execution_count": 171,
   "metadata": {},
   "outputs": [
    {
     "name": "stdout",
     "output_type": "stream",
     "text": [
      "[array([[ 0.33333334, 10.        ],\n",
      "       [ 0.25      , 10.        ],\n",
      "       [ 0.2       , 10.        ]], dtype=float32)]\n"
     ]
    }
   ],
   "source": [
    "print( model.predict( x, steps = 1 ) )"
   ]
  },
  {
   "cell_type": "code",
   "execution_count": 106,
   "metadata": {},
   "outputs": [
    {
     "name": "stdout",
     "output_type": "stream",
     "text": [
      "2.09861228866811 0.3333333333333333 -0.1111111111111111\n",
      "3.386294361119891 0.25 -0.0625\n",
      "4.6094379124341005 0.2 -0.04\n"
     ]
    }
   ],
   "source": [
    "for i in range(1,4):\n",
    "    print(np.log(i+2) + i,1/(i+2),-1/(i+2)**2)"
   ]
  },
  {
   "cell_type": "markdown",
   "metadata": {},
   "source": [
    "## Finding the Hessian"
   ]
  },
  {
   "cell_type": "code",
   "execution_count": 185,
   "metadata": {},
   "outputs": [],
   "source": [
    "import tensorflow as tf\n",
    "from tensorflow import keras\n",
    "from tensorflow.keras.models import *\n",
    "from tensorflow.keras.layers import *\n",
    "from tensorflow.keras import backend as K\n",
    "import numpy as np\n",
    "\n",
    "def hes( y, x ):\n",
    "    return Lambda( lambda z: tf.hessians( z[ 0 ], z[ 1 ] ), output_shape = [1] )( [ y, x ] )\n",
    "\n",
    "def network( i ):\n",
    "    a = Lambda(lambda x: K.log( x + 2 ) )( i )\n",
    "    return a\n",
    "\n",
    "fixed_input = Input(shape=(1,))\n",
    "# double = Input(tensor=tf.Variable( [ 2.0 ] ) )\n",
    "unit_activation = tf.keras.initializers.Ones()\n",
    "dense_dummy_layer = keras.layers.Dense(units=1,use_bias=False,\n",
    "                                      kernel_initializer=unit_activation)(fixed_input)\n",
    "# a = network(fixed_input)\n",
    "a = network(dense_dummy_layer)\n",
    "\n",
    "b = hes( a, fixed_input )\n",
    "# c = grad( b, fixed_input )\n",
    "# d = grad( c, fixed_input )\n",
    "# e = grad( d, fixed_input )\n"
   ]
  },
  {
   "cell_type": "code",
   "execution_count": 186,
   "metadata": {},
   "outputs": [],
   "source": [
    "x = np.array([[1],\n",
    "            [2],\n",
    "            [3]])\n",
    "model = Model( inputs = [ fixed_input], outputs = [b] )\n",
    "\n"
   ]
  },
  {
   "cell_type": "code",
   "execution_count": 187,
   "metadata": {},
   "outputs": [
    {
     "name": "stdout",
     "output_type": "stream",
     "text": [
      "Model: \"model_37\"\n",
      "__________________________________________________________________________________________________\n",
      "Layer (type)                    Output Shape         Param #     Connected to                     \n",
      "==================================================================================================\n",
      "input_68 (InputLayer)           [(None, 1)]          0                                            \n",
      "__________________________________________________________________________________________________\n",
      "dense_37 (Dense)                (None, 1)            1           input_68[0][0]                   \n",
      "__________________________________________________________________________________________________\n",
      "lambda_133 (Lambda)             (None, 1)            0           dense_37[0][0]                   \n",
      "__________________________________________________________________________________________________\n",
      "lambda_134 (Lambda)             [(None, 1, None, 1)] 0           lambda_133[0][0]                 \n",
      "                                                                 input_68[0][0]                   \n",
      "==================================================================================================\n",
      "Total params: 1\n",
      "Trainable params: 1\n",
      "Non-trainable params: 0\n",
      "__________________________________________________________________________________________________\n"
     ]
    }
   ],
   "source": [
    "model.summary()"
   ]
  },
  {
   "cell_type": "code",
   "execution_count": 188,
   "metadata": {},
   "outputs": [
    {
     "name": "stdout",
     "output_type": "stream",
     "text": [
      "[array([[[[-0.11111112],\n",
      "         [ 0.        ],\n",
      "         [ 0.        ]]],\n",
      "\n",
      "\n",
      "       [[[ 0.        ],\n",
      "         [-0.0625    ],\n",
      "         [ 0.        ]]],\n",
      "\n",
      "\n",
      "       [[[ 0.        ],\n",
      "         [ 0.        ],\n",
      "         [-0.04      ]]]], dtype=float32)]\n"
     ]
    }
   ],
   "source": [
    "print( model.predict( x, steps = 1 ) )"
   ]
  },
  {
   "cell_type": "code",
   "execution_count": 64,
   "metadata": {},
   "outputs": [
    {
     "name": "stdout",
     "output_type": "stream",
     "text": [
      "1.0986122886681098 0.3333333333333333 -0.1111111111111111\n",
      "1.3862943611198906 0.25 -0.0625\n",
      "1.6094379124341003 0.2 -0.04\n"
     ]
    }
   ],
   "source": [
    "for i in range(1,4):\n",
    "    print(np.log(i+2),1/(i+2),-1/(i+2)**2)"
   ]
  },
  {
   "cell_type": "markdown",
   "metadata": {},
   "source": [
    "## Putting everything inside a custom Model"
   ]
  },
  {
   "cell_type": "code",
   "execution_count": 285,
   "metadata": {},
   "outputs": [],
   "source": [
    "class CustomModel(tf.keras.Model):\n",
    "\n",
    "    def __init__(self):\n",
    "        super(CustomModel, self).__init__()\n",
    "        self.input_layer = Lambda(lambda x: K.log( x+2  ) )\n",
    "\n",
    "    def findGrad(self,func,argm):\n",
    "        return keras.layers.Lambda(lambda x: K.gradients(x[0],x[1])) ([func,argm])\n",
    "    \n",
    "    def call(self, inputs):\n",
    "        Z = self.input_layer(inputs)\n",
    "        Z_1 = self.findGrad(Z,inputs)\n",
    "        #     return self.dense2(x)\n",
    "        #     print(\"\\n\\n\\n this is the answer:\",self.square_layer(inputs))\n",
    "        #     print(\"hre is a break\")\n",
    "        return Z_1\n",
    "\n",
    "\n",
    "custom_model = CustomModel()"
   ]
  },
  {
   "cell_type": "code",
   "execution_count": 286,
   "metadata": {},
   "outputs": [],
   "source": [
    "x = np.array([[0.],\n",
    "            [1],\n",
    "            [2]])"
   ]
  },
  {
   "cell_type": "code",
   "execution_count": 287,
   "metadata": {},
   "outputs": [
    {
     "data": {
      "text/plain": [
       "[array([[0.5       ],\n",
       "        [0.33333334],\n",
       "        [0.25      ]], dtype=float32)]"
      ]
     },
     "execution_count": 287,
     "metadata": {},
     "output_type": "execute_result"
    }
   ],
   "source": [
    "custom_model.predict(x)"
   ]
  },
  {
   "cell_type": "code",
   "execution_count": null,
   "metadata": {},
   "outputs": [],
   "source": []
  }
 ],
 "metadata": {
  "kernelspec": {
   "display_name": "Python 3",
   "language": "python",
   "name": "python3"
  },
  "language_info": {
   "codemirror_mode": {
    "name": "ipython",
    "version": 3
   },
   "file_extension": ".py",
   "mimetype": "text/x-python",
   "name": "python",
   "nbconvert_exporter": "python",
   "pygments_lexer": "ipython3",
   "version": "3.8.3"
  }
 },
 "nbformat": 4,
 "nbformat_minor": 4
}
