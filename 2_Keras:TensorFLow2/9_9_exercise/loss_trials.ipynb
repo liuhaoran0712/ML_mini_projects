{
 "cells": [
  {
   "cell_type": "markdown",
   "metadata": {},
   "source": [
    "# Custom loss trial for FlowNet"
   ]
  },
  {
   "cell_type": "code",
   "execution_count": 10,
   "metadata": {},
   "outputs": [],
   "source": [
    "import tensorflow as tf\n",
    "from tensorflow import keras\n",
    "from tensorflow.keras import backend as K\n",
    "import numpy as np\n",
    "import matplotlib.pyplot as plt"
   ]
  },
  {
   "cell_type": "code",
   "execution_count": 11,
   "metadata": {},
   "outputs": [],
   "source": [
    "class CustomModel(tf.keras.Model):\n",
    "\n",
    "    def __init__(self):\n",
    "        super(CustomModel, self).__init__()\n",
    "        self.input_layer = keras.layers.Lambda(lambda x: K.log( x+2  ) )\n",
    "\n",
    "    def findGrad(self,func,argm):\n",
    "        return keras.layers.Lambda(lambda x: K.gradients(x[0],x[1])) ([func,argm])\n",
    "    \n",
    "    def call(self, inputs):\n",
    "        Z = self.input_layer(inputs)\n",
    "        Z_1 = self.findGrad(Z,inputs)\n",
    "        #     return self.dense2(x)\n",
    "        #     print(\"\\n\\n\\n this is the answer:\",self.square_layer(inputs))\n",
    "        #     print(\"hre is a break\")\n",
    "        return Z,Z_1\n",
    "\n",
    "\n",
    "custom_model = CustomModel()"
   ]
  },
  {
   "cell_type": "code",
   "execution_count": 12,
   "metadata": {},
   "outputs": [],
   "source": [
    "x = np.array([[1.],\n",
    "            [2.],\n",
    "            [3.]],dtype=np.float32)\n",
    "X = x \n",
    "\n",
    "Y_1 = np.array([[0.],\n",
    "            [0.],\n",
    "            [0.]])\n",
    "Y_2 = np.array([[1.],\n",
    "            [1.],\n",
    "            [1.]])\n",
    "Y = np.concatenate((Y_1,Y_2),axis=1)\n",
    "Y = np.array([[1., 1.],\n",
    "       [0., 0],\n",
    "       [1., 1.]],dtype=np.float32)"
   ]
  },
  {
   "cell_type": "code",
   "execution_count": 13,
   "metadata": {},
   "outputs": [
    {
     "data": {
      "text/plain": [
       "(array([[1.0986123],\n",
       "        [1.3862944],\n",
       "        [1.609438 ]], dtype=float32),\n",
       " [array([[0.33333334],\n",
       "         [0.25      ],\n",
       "         [0.2       ]], dtype=float32)])"
      ]
     },
     "execution_count": 13,
     "metadata": {},
     "output_type": "execute_result"
    }
   ],
   "source": [
    "y_pred_test = custom_model.predict(x)\n",
    "custom_model.predict(x)"
   ]
  },
  {
   "cell_type": "code",
   "execution_count": 14,
   "metadata": {},
   "outputs": [],
   "source": [
    "def custom_loss(y_true, y_pred):\n",
    "    y_true_act = y_true[:,:-1]\n",
    "    y_pred_u = y_pred\n",
    "#     print(y_true_act)\n",
    "    at_boundary = tf.cast(y_true[:,-1:],bool)\n",
    "    print(at_boundary)\n",
    "#     pred_sq_error = tf.square(y_true_act-y_pred_u)\n",
    "    pred_sq_error = tf.abs(y_true_act-y_pred_u)\n",
    "#     boundary_error = tf.zeros(shape=pred_sq_error.shape)\n",
    "    return tf.where(at_boundary,0.,pred_sq_error)"
   ]
  },
  {
   "cell_type": "code",
   "execution_count": 15,
   "metadata": {},
   "outputs": [],
   "source": [
    "custom_model.compile(loss=custom_loss)"
   ]
  },
  {
   "cell_type": "code",
   "execution_count": 16,
   "metadata": {},
   "outputs": [
    {
     "name": "stdout",
     "output_type": "stream",
     "text": [
      "Tensor(\"custom_loss/Cast:0\", shape=(None, 1), dtype=bool)\n",
      "Tensor(\"custom_loss_1/Cast:0\", shape=(None, 1), dtype=bool)\n",
      "Tensor(\"custom_loss/Cast:0\", shape=(None, 1), dtype=bool)\n",
      "Tensor(\"custom_loss_1/Cast:0\", shape=(None, 1), dtype=bool)\n",
      "1/1 [==============================] - 0s 1ms/step - loss: 0.5454 - output_1_loss: 0.4621 - output_2_1_loss: 0.0833\n"
     ]
    },
    {
     "data": {
      "text/plain": [
       "<tensorflow.python.keras.callbacks.History at 0x7f2520489610>"
      ]
     },
     "execution_count": 16,
     "metadata": {},
     "output_type": "execute_result"
    }
   ],
   "source": [
    "custom_model.fit(x=X,y=Y)"
   ]
  },
  {
   "cell_type": "code",
   "execution_count": null,
   "metadata": {},
   "outputs": [],
   "source": []
  },
  {
   "cell_type": "code",
   "execution_count": 6,
   "metadata": {},
   "outputs": [
    {
     "name": "stdout",
     "output_type": "stream",
     "text": [
      "tf.Tensor(\n",
      "[[ True]\n",
      " [False]\n",
      " [ True]], shape=(3, 1), dtype=bool)\n"
     ]
    },
    {
     "data": {
      "text/plain": [
       "<tf.Tensor: shape=(3, 1), dtype=float32, numpy=\n",
       "array([[0.       ],\n",
       "       [1.3862944],\n",
       "       [0.       ]], dtype=float32)>"
      ]
     },
     "execution_count": 6,
     "metadata": {},
     "output_type": "execute_result"
    }
   ],
   "source": [
    "custom_loss(Y,y_pred_test)"
   ]
  },
  {
   "cell_type": "code",
   "execution_count": 7,
   "metadata": {},
   "outputs": [],
   "source": [
    "custom_model.compile(loss=custom_loss)"
   ]
  },
  {
   "cell_type": "code",
   "execution_count": 8,
   "metadata": {},
   "outputs": [
    {
     "name": "stdout",
     "output_type": "stream",
     "text": [
      "Tensor(\"custom_loss/Cast:0\", shape=(None, 1), dtype=bool)\n",
      "Tensor(\"custom_loss_1/Cast:0\", shape=(None, 1), dtype=bool)\n",
      "Tensor(\"custom_loss/Cast:0\", shape=(None, 1), dtype=bool)\n",
      "Tensor(\"custom_loss_1/Cast:0\", shape=(None, 1), dtype=bool)\n",
      "1/1 [==============================] - 0s 1ms/step - loss: 0.6031 - output_1_loss: 0.5365 - output_2_1_loss: 0.0667\n"
     ]
    },
    {
     "data": {
      "text/plain": [
       "<tensorflow.python.keras.callbacks.History at 0x7f25205436d0>"
      ]
     },
     "execution_count": 8,
     "metadata": {},
     "output_type": "execute_result"
    }
   ],
   "source": [
    "custom_model.fit(x=X,y=Y)"
   ]
  },
  {
   "cell_type": "code",
   "execution_count": null,
   "metadata": {},
   "outputs": [],
   "source": [
    "\n"
   ]
  }
 ],
 "metadata": {
  "kernelspec": {
   "display_name": "Python 3",
   "language": "python",
   "name": "python3"
  },
  "language_info": {
   "codemirror_mode": {
    "name": "ipython",
    "version": 3
   },
   "file_extension": ".py",
   "mimetype": "text/x-python",
   "name": "python",
   "nbconvert_exporter": "python",
   "pygments_lexer": "ipython3",
   "version": "3.8.3"
  }
 },
 "nbformat": 4,
 "nbformat_minor": 4
}
