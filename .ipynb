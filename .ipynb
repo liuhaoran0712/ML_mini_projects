{
 "cells": [
  {
   "cell_type": "markdown",
   "metadata": {},
   "source": [
    "# Modelling poisson using PINN"
   ]
  },
  {
   "cell_type": "markdown",
   "metadata": {},
   "source": [
    "Solving the poisson equation $-\\Delta u = f$ using a physics informed neural network "
   ]
  },
  {
   "cell_type": "markdown",
   "metadata": {},
   "source": [
    "## 1D problem"
   ]
  },
  {
   "cell_type": "markdown",
   "metadata": {},
   "source": [
    "### Manufactured solution\n"
   ]
  },
  {
   "cell_type": "markdown",
   "metadata": {},
   "source": [
    "We use $u = x^3$ for $x\\in [0,4]$ to manufacture the right hand side to be $f=sin(x)$"
   ]
  },
  {
   "cell_type": "markdown",
   "metadata": {},
   "source": [
    "### Importing packages"
   ]
  },
  {
   "cell_type": "code",
   "execution_count": 121,
   "metadata": {},
   "outputs": [],
   "source": [
    "import numpy as np\n",
    "import tensorflow as tf\n",
    "from tensorflow import keras\n",
    "import pandas as pd\n",
    "import matplotlib.pyplot as plt\n",
    "%matplotlib inline"
   ]
  },
  {
   "cell_type": "markdown",
   "metadata": {},
   "source": [
    "### Manufacturing data for trainig"
   ]
  },
  {
   "cell_type": "code",
   "execution_count": 122,
   "metadata": {},
   "outputs": [],
   "source": [
    "np.random.seed(123)\n",
    "X_tr_pde = np.random.uniform(0,3,1000).reshape(1000,1)\n"
   ]
  },
  {
   "cell_type": "markdown",
   "metadata": {},
   "source": [
    "#### Plotting histogram of randomly selected points to make sure they are uniformly distributed "
   ]
  },
  {
   "cell_type": "code",
   "execution_count": 123,
   "metadata": {},
   "outputs": [
    {
     "data": {
      "text/plain": [
       "Text(0, 0.5, 'frequency ')"
      ]
     },
     "execution_count": 123,
     "metadata": {},
     "output_type": "execute_result"
    },
    {
     "data": {
      "image/png": "[encoded data removed]",
      "text/plain": [
       "<Figure size 432x288 with 1 Axes>"
      ]
     },
     "metadata": {
      "needs_background": "light"
     },
     "output_type": "display_data"
    }
   ],
   "source": [
    "plt.hist(X_tr_pde)\n",
    "plt.xlabel(\"training points\")\n",
    "plt.ylabel(\"frequency \")"
   ]
  },
  {
   "cell_type": "code",
   "execution_count": 124,
   "metadata": {},
   "outputs": [
    {
     "data": {
      "text/plain": [
       "<matplotlib.collections.PathCollection at 0x7f1a482aa130>"
      ]
     },
     "execution_count": 124,
     "metadata": {},
     "output_type": "execute_result"
    },
    {
     "data": {
      "image/png": "[encoded data removed]",
      "text/plain": [
       "<Figure size 432x288 with 1 Axes>"
      ]
     },
     "metadata": {
      "needs_background": "light"
     },
     "output_type": "display_data"
    }
   ],
   "source": [
    "Y_tr_pde = 6*X_tr_pde\n",
    "plt.scatter(X_tr_pde,Y_tr_pde)"
   ]
  },
  {
   "cell_type": "code",
   "execution_count": 125,
   "metadata": {},
   "outputs": [
    {
     "data": {
      "text/plain": [
       "(1000, 2)"
      ]
     },
     "execution_count": 125,
     "metadata": {},
     "output_type": "execute_result"
    }
   ],
   "source": [
    "Y_tr_pde = np.concatenate([Y_tr_pde,np.zeros((X_tr_pde.size,1))],axis=1)\n",
    "Y_tr_pde.shape"
   ]
  },
  {
   "cell_type": "code",
   "execution_count": 126,
   "metadata": {},
   "outputs": [
    {
     "data": {
      "text/plain": [
       "array([[ 0.,  1.],\n",
       "       [ 0.,  1.],\n",
       "       [ 0.,  1.],\n",
       "       [ 0.,  1.],\n",
       "       [ 0.,  1.],\n",
       "       [ 0.,  1.],\n",
       "       [ 0.,  1.],\n",
       "       [ 0.,  1.],\n",
       "       [ 0.,  1.],\n",
       "       [ 0.,  1.],\n",
       "       [ 0.,  1.],\n",
       "       [ 0.,  1.],\n",
       "       [ 0.,  1.],\n",
       "       [ 0.,  1.],\n",
       "       [ 0.,  1.],\n",
       "       [ 0.,  1.],\n",
       "       [ 0.,  1.],\n",
       "       [ 0.,  1.],\n",
       "       [ 0.,  1.],\n",
       "       [ 0.,  1.],\n",
       "       [ 0.,  1.],\n",
       "       [ 0.,  1.],\n",
       "       [ 0.,  1.],\n",
       "       [ 0.,  1.],\n",
       "       [ 0.,  1.],\n",
       "       [ 0.,  1.],\n",
       "       [ 0.,  1.],\n",
       "       [ 0.,  1.],\n",
       "       [ 0.,  1.],\n",
       "       [ 0.,  1.],\n",
       "       [ 0.,  1.],\n",
       "       [ 0.,  1.],\n",
       "       [ 0.,  1.],\n",
       "       [ 0.,  1.],\n",
       "       [ 0.,  1.],\n",
       "       [ 0.,  1.],\n",
       "       [ 0.,  1.],\n",
       "       [ 0.,  1.],\n",
       "       [ 0.,  1.],\n",
       "       [ 0.,  1.],\n",
       "       [ 0.,  1.],\n",
       "       [ 0.,  1.],\n",
       "       [ 0.,  1.],\n",
       "       [ 0.,  1.],\n",
       "       [ 0.,  1.],\n",
       "       [ 0.,  1.],\n",
       "       [ 0.,  1.],\n",
       "       [ 0.,  1.],\n",
       "       [ 0.,  1.],\n",
       "       [ 0.,  1.],\n",
       "       [ 0.,  1.],\n",
       "       [ 0.,  1.],\n",
       "       [ 0.,  1.],\n",
       "       [ 0.,  1.],\n",
       "       [ 0.,  1.],\n",
       "       [ 0.,  1.],\n",
       "       [ 0.,  1.],\n",
       "       [ 0.,  1.],\n",
       "       [ 0.,  1.],\n",
       "       [ 0.,  1.],\n",
       "       [ 0.,  1.],\n",
       "       [ 0.,  1.],\n",
       "       [ 0.,  1.],\n",
       "       [ 0.,  1.],\n",
       "       [ 0.,  1.],\n",
       "       [ 0.,  1.],\n",
       "       [ 0.,  1.],\n",
       "       [ 0.,  1.],\n",
       "       [ 0.,  1.],\n",
       "       [ 0.,  1.],\n",
       "       [ 0.,  1.],\n",
       "       [ 0.,  1.],\n",
       "       [ 0.,  1.],\n",
       "       [ 0.,  1.],\n",
       "       [ 0.,  1.],\n",
       "       [ 0.,  1.],\n",
       "       [ 0.,  1.],\n",
       "       [ 0.,  1.],\n",
       "       [ 0.,  1.],\n",
       "       [ 0.,  1.],\n",
       "       [ 0.,  1.],\n",
       "       [ 0.,  1.],\n",
       "       [ 0.,  1.],\n",
       "       [ 0.,  1.],\n",
       "       [ 0.,  1.],\n",
       "       [ 0.,  1.],\n",
       "       [ 0.,  1.],\n",
       "       [ 0.,  1.],\n",
       "       [ 0.,  1.],\n",
       "       [ 0.,  1.],\n",
       "       [ 0.,  1.],\n",
       "       [ 0.,  1.],\n",
       "       [ 0.,  1.],\n",
       "       [ 0.,  1.],\n",
       "       [ 0.,  1.],\n",
       "       [ 0.,  1.],\n",
       "       [ 0.,  1.],\n",
       "       [ 0.,  1.],\n",
       "       [ 0.,  1.],\n",
       "       [ 0.,  1.],\n",
       "       [27.,  1.],\n",
       "       [27.,  1.],\n",
       "       [27.,  1.],\n",
       "       [27.,  1.],\n",
       "       [27.,  1.],\n",
       "       [27.,  1.],\n",
       "       [27.,  1.],\n",
       "       [27.,  1.],\n",
       "       [27.,  1.],\n",
       "       [27.,  1.],\n",
       "       [27.,  1.],\n",
       "       [27.,  1.],\n",
       "       [27.,  1.],\n",
       "       [27.,  1.],\n",
       "       [27.,  1.],\n",
       "       [27.,  1.],\n",
       "       [27.,  1.],\n",
       "       [27.,  1.],\n",
       "       [27.,  1.],\n",
       "       [27.,  1.],\n",
       "       [27.,  1.],\n",
       "       [27.,  1.],\n",
       "       [27.,  1.],\n",
       "       [27.,  1.],\n",
       "       [27.,  1.],\n",
       "       [27.,  1.],\n",
       "       [27.,  1.],\n",
       "       [27.,  1.],\n",
       "       [27.,  1.],\n",
       "       [27.,  1.],\n",
       "       [27.,  1.],\n",
       "       [27.,  1.],\n",
       "       [27.,  1.],\n",
       "       [27.,  1.],\n",
       "       [27.,  1.],\n",
       "       [27.,  1.],\n",
       "       [27.,  1.],\n",
       "       [27.,  1.],\n",
       "       [27.,  1.],\n",
       "       [27.,  1.],\n",
       "       [27.,  1.],\n",
       "       [27.,  1.],\n",
       "       [27.,  1.],\n",
       "       [27.,  1.],\n",
       "       [27.,  1.],\n",
       "       [27.,  1.],\n",
       "       [27.,  1.],\n",
       "       [27.,  1.],\n",
       "       [27.,  1.],\n",
       "       [27.,  1.],\n",
       "       [27.,  1.],\n",
       "       [27.,  1.],\n",
       "       [27.,  1.],\n",
       "       [27.,  1.],\n",
       "       [27.,  1.],\n",
       "       [27.,  1.],\n",
       "       [27.,  1.],\n",
       "       [27.,  1.],\n",
       "       [27.,  1.],\n",
       "       [27.,  1.],\n",
       "       [27.,  1.],\n",
       "       [27.,  1.],\n",
       "       [27.,  1.],\n",
       "       [27.,  1.],\n",
       "       [27.,  1.],\n",
       "       [27.,  1.],\n",
       "       [27.,  1.],\n",
       "       [27.,  1.],\n",
       "       [27.,  1.],\n",
       "       [27.,  1.],\n",
       "       [27.,  1.],\n",
       "       [27.,  1.],\n",
       "       [27.,  1.],\n",
       "       [27.,  1.],\n",
       "       [27.,  1.],\n",
       "       [27.,  1.],\n",
       "       [27.,  1.],\n",
       "       [27.,  1.],\n",
       "       [27.,  1.],\n",
       "       [27.,  1.],\n",
       "       [27.,  1.],\n",
       "       [27.,  1.],\n",
       "       [27.,  1.],\n",
       "       [27.,  1.],\n",
       "       [27.,  1.],\n",
       "       [27.,  1.],\n",
       "       [27.,  1.],\n",
       "       [27.,  1.],\n",
       "       [27.,  1.],\n",
       "       [27.,  1.],\n",
       "       [27.,  1.],\n",
       "       [27.,  1.],\n",
       "       [27.,  1.],\n",
       "       [27.,  1.],\n",
       "       [27.,  1.],\n",
       "       [27.,  1.],\n",
       "       [27.,  1.],\n",
       "       [27.,  1.],\n",
       "       [27.,  1.],\n",
       "       [27.,  1.]])"
      ]
     },
     "execution_count": 126,
     "metadata": {},
     "output_type": "execute_result"
    }
   ],
   "source": [
    "X_tr_Dr_bc_left = np.zeros(100).reshape(100,1)\n",
    "X_tr_Dr_bc_right = 3*np.ones(100).reshape(100,1)\n",
    "X_bc = np.concatenate([X_tr_Dr_bc_left,X_tr_Dr_bc_right],axis=0)\n",
    "\n",
    "Y_tr_Dr_bc_left = X_tr_Dr_bc_left**3\n",
    "Y_tr_Dr_bc_right = X_tr_Dr_bc_right**3\n",
    "Y_tr_bc = np.concatenate([Y_tr_Dr_bc_left,Y_tr_Dr_bc_right],axis=0)\n",
    "Y_tr_bc = np.concatenate([Y_tr_bc,np.ones((200,1))],axis=1)\n",
    "Y_tr_bc"
   ]
  },
  {
   "cell_type": "code",
   "execution_count": 127,
   "metadata": {},
   "outputs": [],
   "source": [
    "X_tr = np.concatenate((X_tr_pde, X_bc), axis=0)\n",
    "Y_tr = np.concatenate((Y_tr_pde, Y_tr_bc), axis=0)"
   ]
  },
  {
   "cell_type": "code",
   "execution_count": 128,
   "metadata": {},
   "outputs": [
    {
     "data": {
      "text/plain": [
       "array([[12.53644534,  0.        ],\n",
       "       [ 5.15050803,  0.        ],\n",
       "       [ 4.08332616,  0.        ],\n",
       "       ...,\n",
       "       [27.        ,  1.        ],\n",
       "       [27.        ,  1.        ],\n",
       "       [27.        ,  1.        ]])"
      ]
     },
     "execution_count": 128,
     "metadata": {},
     "output_type": "execute_result"
    }
   ],
   "source": [
    "Y_tr"
   ]
  },
  {
   "cell_type": "markdown",
   "metadata": {},
   "source": [
    "## Training the model"
   ]
  },
  {
   "cell_type": "code",
   "execution_count": 129,
   "metadata": {},
   "outputs": [],
   "source": [
    "from tensorflow.keras import backend as K\n",
    "class CustomModel(tf.keras.Model):\n",
    "\n",
    "    def __init__(self):\n",
    "        super(CustomModel, self).__init__()\n",
    "        self.dense_1 = keras.layers.Dense(30, activation=\"elu\",\n",
    "                                          name=\"dense_1\")\n",
    "        self.dense_2 = keras.layers.Dense(30, activation=\"elu\",\n",
    "                                         name=\"dense_2\")\n",
    "        self.dense_3 = keras.layers.Dense(1,\n",
    "                                         name=\"dense_3\")\n",
    "\n",
    "    def findGrad(self,func,argm):\n",
    "        return keras.layers.Lambda(lambda x: K.gradients(x[0],x[1])) ([func,argm])\n",
    "    \n",
    "    def call(self, inputs):\n",
    "        layer_1 = self.dense_1(inputs)\n",
    "        layer_2 = self.dense_2(layer_1)\n",
    "        layer_3 = self.dense_3(layer_2)\n",
    "        \n",
    "        grad_layer = self.findGrad(layer_3, inputs)\n",
    "        laplace_layer = self.findGrad(grad_layer, inputs)\n",
    "        \n",
    "        return layer_3, laplace_layer\n",
    "\n"
   ]
  },
  {
   "cell_type": "code",
   "execution_count": 130,
   "metadata": {},
   "outputs": [],
   "source": [
    "custom_model = CustomModel()"
   ]
  },
  {
   "cell_type": "code",
   "execution_count": 131,
   "metadata": {},
   "outputs": [],
   "source": [
    "#Loss coming from the boundary terms\n",
    "def u_loss(y_true, y_pred):\n",
    "    y_true_act = y_true[:,:-1]\n",
    "    at_boundary = tf.cast(y_true[:,-1:,],bool)\n",
    "    u_sq_error = (1/2)*tf.square(y_true_act-y_pred)\n",
    "    return tf.where(at_boundary, u_sq_error, 0.)\n",
    "\n",
    "#Loss coming from the PDE constrain\n",
    "def pde_loss(y_true, y_pred):\n",
    "    y_true_act = y_true[:,:-1]\n",
    "    at_boundary = tf.cast(y_true[:,-1:,],bool)\n",
    "    #need to change this to just tf.square(y_pred) after pde constrain is added to grad_layer\n",
    "    pde_sq_error = (1/2)*tf.square(y_true_act-y_pred)\n",
    "    return tf.where(at_boundary,0.,pde_sq_error)"
   ]
  },
  {
   "cell_type": "code",
   "execution_count": 132,
   "metadata": {},
   "outputs": [],
   "source": [
    "custom_model.compile(loss=[u_loss,pde_loss], optimizer=keras.optimizers.SGD(lr=1e-3))"
   ]
  },
  {
   "cell_type": "code",
   "execution_count": 136,
   "metadata": {
    "scrolled": true
   },
   "outputs": [
    {
     "name": "stdout",
     "output_type": "stream",
     "text": [
      "Epoch 1/40\n",
      "38/38 [==============================] - 0s 4ms/step - loss: 5.4814 - output_1_loss: 0.1896 - output_2_1_loss: 5.2918\n",
      "Epoch 2/40\n",
      "38/38 [==============================] - 0s 4ms/step - loss: 4.2636 - output_1_loss: 0.3176 - output_2_1_loss: 3.9460\n",
      "Epoch 3/40\n",
      "38/38 [==============================] - 0s 4ms/step - loss: 4.7175 - output_1_loss: 0.3755 - output_2_1_loss: 4.3420\n",
      "Epoch 4/40\n",
      "38/38 [==============================] - 0s 4ms/step - loss: 4.5042 - output_1_loss: 0.2686 - output_2_1_loss: 4.2356\n",
      "Epoch 5/40\n",
      "38/38 [==============================] - 0s 4ms/step - loss: 4.8906 - output_1_loss: 0.3094 - output_2_1_loss: 4.5812\n",
      "Epoch 6/40\n",
      "38/38 [==============================] - 0s 5ms/step - loss: 3.8241 - output_1_loss: 0.2482 - output_2_1_loss: 3.5759\n",
      "Epoch 7/40\n",
      "38/38 [==============================] - 0s 6ms/step - loss: 4.7480 - output_1_loss: 0.5122 - output_2_1_loss: 4.2358\n",
      "Epoch 8/40\n",
      "38/38 [==============================] - 0s 4ms/step - loss: 3.8666 - output_1_loss: 0.3862 - output_2_1_loss: 3.4805\n",
      "Epoch 9/40\n",
      "38/38 [==============================] - 0s 5ms/step - loss: 3.0380 - output_1_loss: 0.3835 - output_2_1_loss: 2.6545\n",
      "Epoch 10/40\n",
      "38/38 [==============================] - 0s 7ms/step - loss: 2.8953 - output_1_loss: 0.2063 - output_2_1_loss: 2.6889\n",
      "Epoch 11/40\n",
      "38/38 [==============================] - 0s 5ms/step - loss: 2.4525 - output_1_loss: 0.2193 - output_2_1_loss: 2.2332\n",
      "Epoch 12/40\n",
      "38/38 [==============================] - 0s 5ms/step - loss: 1.8385 - output_1_loss: 0.1744 - output_2_1_loss: 1.6641\n",
      "Epoch 13/40\n",
      "38/38 [==============================] - 0s 4ms/step - loss: 1.3499 - output_1_loss: 0.1610 - output_2_1_loss: 1.1889\n",
      "Epoch 14/40\n",
      "38/38 [==============================] - 0s 6ms/step - loss: 1.8761 - output_1_loss: 0.1879 - output_2_1_loss: 1.6883\n",
      "Epoch 15/40\n",
      "38/38 [==============================] - 0s 4ms/step - loss: 2.4664 - output_1_loss: 0.2904 - output_2_1_loss: 2.1760\n",
      "Epoch 16/40\n",
      "38/38 [==============================] - 0s 5ms/step - loss: 1.8804 - output_1_loss: 0.2374 - output_2_1_loss: 1.6430\n",
      "Epoch 17/40\n",
      "38/38 [==============================] - 0s 7ms/step - loss: 1.9502 - output_1_loss: 0.3590 - output_2_1_loss: 1.5912\n",
      "Epoch 18/40\n",
      "38/38 [==============================] - 0s 6ms/step - loss: 1.5392 - output_1_loss: 0.1787 - output_2_1_loss: 1.3605\n",
      "Epoch 19/40\n",
      "38/38 [==============================] - 0s 6ms/step - loss: 1.5936 - output_1_loss: 0.2213 - output_2_1_loss: 1.3723\n",
      "Epoch 20/40\n",
      "38/38 [==============================] - 0s 7ms/step - loss: 1.1561 - output_1_loss: 0.2171 - output_2_1_loss: 0.9390\n",
      "Epoch 21/40\n",
      "38/38 [==============================] - 0s 13ms/step - loss: 1.4878 - output_1_loss: 0.2138 - output_2_1_loss: 1.2739\n",
      "Epoch 22/40\n",
      "38/38 [==============================] - 0s 6ms/step - loss: 1.4586 - output_1_loss: 0.1142 - output_2_1_loss: 1.3444\n",
      "Epoch 23/40\n",
      "38/38 [==============================] - 0s 7ms/step - loss: 0.5540 - output_1_loss: 0.0271 - output_2_1_loss: 0.5268\n",
      "Epoch 24/40\n",
      "38/38 [==============================] - 0s 5ms/step - loss: 1.8417 - output_1_loss: 0.3351 - output_2_1_loss: 1.5067\n",
      "Epoch 25/40\n",
      "38/38 [==============================] - 0s 6ms/step - loss: 1.0994 - output_1_loss: 0.1941 - output_2_1_loss: 0.9053\n",
      "Epoch 26/40\n",
      "38/38 [==============================] - 0s 6ms/step - loss: 1.2542 - output_1_loss: 0.1501 - output_2_1_loss: 1.1041\n",
      "Epoch 27/40\n",
      "38/38 [==============================] - 0s 6ms/step - loss: 0.7107 - output_1_loss: 0.0805 - output_2_1_loss: 0.6302\n",
      "Epoch 28/40\n",
      "38/38 [==============================] - 0s 10ms/step - loss: 0.8486 - output_1_loss: 0.1242 - output_2_1_loss: 0.7245\n",
      "Epoch 29/40\n",
      "38/38 [==============================] - 0s 5ms/step - loss: 1.2052 - output_1_loss: 0.1854 - output_2_1_loss: 1.0198\n",
      "Epoch 30/40\n",
      "38/38 [==============================] - 0s 6ms/step - loss: 0.6103 - output_1_loss: 0.0725 - output_2_1_loss: 0.5378\n",
      "Epoch 31/40\n",
      "38/38 [==============================] - 0s 5ms/step - loss: 0.8808 - output_1_loss: 0.1008 - output_2_1_loss: 0.7800\n",
      "Epoch 32/40\n",
      "38/38 [==============================] - 0s 7ms/step - loss: 0.7842 - output_1_loss: 0.0657 - output_2_1_loss: 0.7185\n",
      "Epoch 33/40\n",
      "38/38 [==============================] - 0s 3ms/step - loss: 1.1122 - output_1_loss: 0.1427 - output_2_1_loss: 0.9695\n",
      "Epoch 34/40\n",
      "38/38 [==============================] - 0s 2ms/step - loss: 0.8155 - output_1_loss: 0.0760 - output_2_1_loss: 0.7395\n",
      "Epoch 35/40\n",
      "38/38 [==============================] - 0s 3ms/step - loss: 0.8738 - output_1_loss: 0.1262 - output_2_1_loss: 0.7476\n",
      "Epoch 36/40\n",
      "38/38 [==============================] - 0s 5ms/step - loss: 1.1423 - output_1_loss: 0.0713 - output_2_1_loss: 1.0710\n",
      "Epoch 37/40\n",
      "38/38 [==============================] - 0s 3ms/step - loss: 1.1256 - output_1_loss: 0.1121 - output_2_1_loss: 1.0135\n",
      "Epoch 38/40\n",
      "38/38 [==============================] - 0s 3ms/step - loss: 0.9689 - output_1_loss: 0.1465 - output_2_1_loss: 0.8224\n",
      "Epoch 39/40\n",
      "38/38 [==============================] - 0s 5ms/step - loss: 1.8441 - output_1_loss: 0.3939 - output_2_1_loss: 1.4502\n",
      "Epoch 40/40\n",
      "38/38 [==============================] - 0s 5ms/step - loss: 1.0337 - output_1_loss: 0.1479 - output_2_1_loss: 0.8858\n"
     ]
    },
    {
     "data": {
      "text/plain": [
       "<tensorflow.python.keras.callbacks.History at 0x7f1a086c66a0>"
      ]
     },
     "execution_count": 136,
     "metadata": {},
     "output_type": "execute_result"
    }
   ],
   "source": [
    "custom_model.fit(x=X_tr, y=Y_tr,epochs=40)"
   ]
  },
  {
   "cell_type": "code",
   "execution_count": 139,
   "metadata": {},
   "outputs": [
    {
     "name": "stdout",
     "output_type": "stream",
     "text": [
      "Epoch 1/40\n",
      "38/38 [==============================] - 0s 5ms/step - loss: 0.3258 - output_1_loss: 1.4336e-04 - output_2_1_loss: 0.3256\n",
      "Epoch 2/40\n",
      "38/38 [==============================] - 0s 6ms/step - loss: 0.3255 - output_1_loss: 1.3051e-04 - output_2_1_loss: 0.3254\n",
      "Epoch 3/40\n",
      "38/38 [==============================] - 0s 4ms/step - loss: 0.3231 - output_1_loss: 1.9144e-04 - output_2_1_loss: 0.3229\n",
      "Epoch 4/40\n",
      "38/38 [==============================] - 0s 4ms/step - loss: 0.3246 - output_1_loss: 2.6261e-04 - output_2_1_loss: 0.3243\n",
      "Epoch 5/40\n",
      "38/38 [==============================] - 0s 4ms/step - loss: 0.3250 - output_1_loss: 1.2593e-04 - output_2_1_loss: 0.3249\n",
      "Epoch 6/40\n",
      "38/38 [==============================] - 0s 5ms/step - loss: 0.3243 - output_1_loss: 1.2382e-04 - output_2_1_loss: 0.3242\n",
      "Epoch 7/40\n",
      "38/38 [==============================] - 0s 5ms/step - loss: 0.3230 - output_1_loss: 2.8657e-04 - output_2_1_loss: 0.3227\n",
      "Epoch 8/40\n",
      "38/38 [==============================] - 0s 5ms/step - loss: 0.3235 - output_1_loss: 2.0865e-04 - output_2_1_loss: 0.3233\n",
      "Epoch 9/40\n",
      "38/38 [==============================] - 0s 5ms/step - loss: 0.3276 - output_1_loss: 1.7163e-04 - output_2_1_loss: 0.3275\n",
      "Epoch 10/40\n",
      "38/38 [==============================] - 0s 4ms/step - loss: 0.3222 - output_1_loss: 2.4830e-04 - output_2_1_loss: 0.3220\n",
      "Epoch 11/40\n",
      "38/38 [==============================] - 0s 4ms/step - loss: 0.3270 - output_1_loss: 3.2440e-04 - output_2_1_loss: 0.3267\n",
      "Epoch 12/40\n",
      "38/38 [==============================] - 0s 4ms/step - loss: 0.3264 - output_1_loss: 2.6699e-04 - output_2_1_loss: 0.3261\n",
      "Epoch 13/40\n",
      "38/38 [==============================] - 0s 5ms/step - loss: 0.3282 - output_1_loss: 2.3742e-04 - output_2_1_loss: 0.3280\n",
      "Epoch 14/40\n",
      "38/38 [==============================] - 0s 5ms/step - loss: 0.3294 - output_1_loss: 2.0475e-04 - output_2_1_loss: 0.3291\n",
      "Epoch 15/40\n",
      "38/38 [==============================] - 0s 4ms/step - loss: 0.3305 - output_1_loss: 2.7967e-04 - output_2_1_loss: 0.3302\n",
      "Epoch 16/40\n",
      "38/38 [==============================] - 0s 5ms/step - loss: 0.3245 - output_1_loss: 1.2954e-04 - output_2_1_loss: 0.3243\n",
      "Epoch 17/40\n",
      "38/38 [==============================] - 0s 5ms/step - loss: 0.3277 - output_1_loss: 1.4175e-04 - output_2_1_loss: 0.3276\n",
      "Epoch 18/40\n",
      "38/38 [==============================] - 0s 4ms/step - loss: 0.3313 - output_1_loss: 4.3247e-04 - output_2_1_loss: 0.3309\n",
      "Epoch 19/40\n",
      "38/38 [==============================] - 0s 5ms/step - loss: 0.3316 - output_1_loss: 4.7669e-04 - output_2_1_loss: 0.3311\n",
      "Epoch 20/40\n",
      "38/38 [==============================] - 0s 5ms/step - loss: 0.3262 - output_1_loss: 2.3250e-04 - output_2_1_loss: 0.3260\n",
      "Epoch 21/40\n",
      "38/38 [==============================] - 0s 5ms/step - loss: 0.3265 - output_1_loss: 3.5408e-04 - output_2_1_loss: 0.3262\n",
      "Epoch 22/40\n",
      "38/38 [==============================] - 0s 4ms/step - loss: 0.3296 - output_1_loss: 2.5926e-04 - output_2_1_loss: 0.3294\n",
      "Epoch 23/40\n",
      "38/38 [==============================] - 0s 5ms/step - loss: 0.3263 - output_1_loss: 1.8585e-04 - output_2_1_loss: 0.3262\n",
      "Epoch 24/40\n",
      "38/38 [==============================] - 0s 5ms/step - loss: 0.3284 - output_1_loss: 2.5217e-04 - output_2_1_loss: 0.3281\n",
      "Epoch 25/40\n",
      "38/38 [==============================] - 0s 5ms/step - loss: 0.3264 - output_1_loss: 2.7629e-04 - output_2_1_loss: 0.3261\n",
      "Epoch 26/40\n",
      "38/38 [==============================] - 0s 5ms/step - loss: 0.3257 - output_1_loss: 2.5411e-04 - output_2_1_loss: 0.3255\n",
      "Epoch 27/40\n",
      "38/38 [==============================] - 1s 14ms/step - loss: 0.3233 - output_1_loss: 2.2713e-04 - output_2_1_loss: 0.3231\n",
      "Epoch 28/40\n",
      "38/38 [==============================] - 0s 6ms/step - loss: 0.3252 - output_1_loss: 1.2187e-04 - output_2_1_loss: 0.3251\n",
      "Epoch 29/40\n",
      "38/38 [==============================] - 0s 5ms/step - loss: 0.3215 - output_1_loss: 2.2537e-04 - output_2_1_loss: 0.3213\n",
      "Epoch 30/40\n",
      "38/38 [==============================] - 0s 5ms/step - loss: 0.3228 - output_1_loss: 1.7826e-04 - output_2_1_loss: 0.3226\n",
      "Epoch 31/40\n",
      "38/38 [==============================] - 0s 4ms/step - loss: 0.3210 - output_1_loss: 1.5768e-04 - output_2_1_loss: 0.3208\n",
      "Epoch 32/40\n",
      "38/38 [==============================] - 0s 5ms/step - loss: 0.3219 - output_1_loss: 1.4680e-04 - output_2_1_loss: 0.3218\n",
      "Epoch 33/40\n",
      "38/38 [==============================] - 0s 6ms/step - loss: 0.3221 - output_1_loss: 2.9004e-04 - output_2_1_loss: 0.3218\n",
      "Epoch 34/40\n",
      "38/38 [==============================] - 0s 5ms/step - loss: 0.3237 - output_1_loss: 3.4694e-04 - output_2_1_loss: 0.3233\n",
      "Epoch 35/40\n",
      "38/38 [==============================] - 0s 4ms/step - loss: 0.3184 - output_1_loss: 1.9361e-04 - output_2_1_loss: 0.3182\n",
      "Epoch 36/40\n",
      "38/38 [==============================] - 0s 4ms/step - loss: 0.3201 - output_1_loss: 1.6477e-04 - output_2_1_loss: 0.3199\n",
      "Epoch 37/40\n",
      "38/38 [==============================] - 0s 5ms/step - loss: 0.3233 - output_1_loss: 3.1336e-04 - output_2_1_loss: 0.3230\n",
      "Epoch 38/40\n",
      "38/38 [==============================] - 0s 5ms/step - loss: 0.3211 - output_1_loss: 2.9488e-04 - output_2_1_loss: 0.3208\n",
      "Epoch 39/40\n",
      "38/38 [==============================] - 0s 4ms/step - loss: 0.3191 - output_1_loss: 2.3167e-04 - output_2_1_loss: 0.3189\n",
      "Epoch 40/40\n",
      "38/38 [==============================] - 0s 4ms/step - loss: 0.3161 - output_1_loss: 2.1028e-04 - output_2_1_loss: 0.3158\n"
     ]
    },
    {
     "data": {
      "text/plain": [
       "<tensorflow.python.keras.callbacks.History at 0x7f1a0845e640>"
      ]
     },
     "execution_count": 139,
     "metadata": {},
     "output_type": "execute_result"
    }
   ],
   "source": [
    "custom_model.compile(loss=[u_loss,pde_loss], optimizer=keras.optimizers.SGD(lr=1e-5))\n",
    "custom_model.fit(x=X_tr, y=Y_tr,epochs=40)"
   ]
  },
  {
   "cell_type": "code",
   "execution_count": 143,
   "metadata": {},
   "outputs": [],
   "source": [
    "X_test_st = np.random.uniform(0,2,500).reshape(500,1)"
   ]
  },
  {
   "cell_type": "code",
   "execution_count": 144,
   "metadata": {},
   "outputs": [],
   "source": [
    "Y_test = custom_model.predict(X_test_st)"
   ]
  },
  {
   "cell_type": "code",
   "execution_count": 145,
   "metadata": {},
   "outputs": [
    {
     "data": {
      "text/plain": [
       "<matplotlib.collections.PathCollection at 0x7f1a90231be0>"
      ]
     },
     "execution_count": 145,
     "metadata": {},
     "output_type": "execute_result"
    },
    {
     "data": {
      "image/png": "[encoded data removed]",
      "text/plain": [
       "<Figure size 432x288 with 1 Axes>"
      ]
     },
     "metadata": {
      "needs_background": "light"
     },
     "output_type": "display_data"
    }
   ],
   "source": [
    "plt.scatter(X_test_st, Y_test[0][:,0])"
   ]
  },
  {
   "cell_type": "code",
   "execution_count": 148,
   "metadata": {},
   "outputs": [
    {
     "data": {
      "text/plain": [
       "<matplotlib.collections.PathCollection at 0x7f19d03645b0>"
      ]
     },
     "execution_count": 148,
     "metadata": {},
     "output_type": "execute_result"
    },
    {
     "data": {
      "image/png": "[encoded data removed]",
      "text/plain": [
       "<Figure size 432x288 with 1 Axes>"
      ]
     },
     "metadata": {
      "needs_background": "light"
     },
     "output_type": "display_data"
    }
   ],
   "source": [
    "plt.scatter(X_test_st, X_test_st**3)"
   ]
  },
  {
   "cell_type": "code",
   "execution_count": null,
   "metadata": {},
   "outputs": [],
   "source": []
  }
 ],
 "metadata": {
  "kernelspec": {
   "display_name": "Python 3",
   "language": "python",
   "name": "python3"
  },
  "language_info": {
   "codemirror_mode": {
    "name": "ipython",
    "version": 3
   },
   "file_extension": ".py",
   "mimetype": "text/x-python",
   "name": "python",
   "nbconvert_exporter": "python",
   "pygments_lexer": "ipython3",
   "version": "3.8.3"
  }
 },
 "nbformat": 4,
 "nbformat_minor": 4
}
