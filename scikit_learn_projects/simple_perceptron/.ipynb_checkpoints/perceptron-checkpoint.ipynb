{
 "cells": [
  {
   "cell_type": "markdown",
   "metadata": {},
   "source": [
    "#  Simple perceptron using scikit-learn\n",
    "\n",
    "This is the example of using a simple single layer perceptron using scikit-learn. Please check other repositories for more complicated models based on TensorFlow and PyTorch.\n",
    "Predicts whether the flower with given characteristics is Iris setosa or not."
   ]
  },
  {
   "cell_type": "code",
   "execution_count": 20,
   "metadata": {},
   "outputs": [
    {
     "data": {
      "text/plain": [
       "Perceptron()"
      ]
     },
     "execution_count": 20,
     "metadata": {},
     "output_type": "execute_result"
    }
   ],
   "source": [
    "#Importing required packages\n",
    "\n",
    "import numpy as np\n",
    "from sklearn import linear_model\n",
    "from sklearn import datasets \n",
    "\n",
    "#loading required data set\n",
    "iris_df = datasets.load_iris()\n",
    "#Initiating the class Perceptron \n",
    "simple_perceptron = linear_model.Perceptron()\n",
    "\n",
    "#Taking two features(attributes) for prediction\n",
    "X = iris_df.data[:,(2,3)] # information about petal length and width\n",
    "#Loading the labels\n",
    "Y = (iris_df.target == 0).astype(np.int)\n",
    "\n",
    "simple_perceptron.fit(X, Y)\n",
    "\n"
   ]
  },
  {
   "cell_type": "markdown",
   "metadata": {},
   "source": [
    "## Making predictions on randomly generated test set"
   ]
  },
  {
   "cell_type": "code",
   "execution_count": null,
   "metadata": {},
   "outputs": [],
   "source": [
    "## Making random predictions\n",
    "np.random.seed(100)\n",
    "random_test = np.array([3,1]) * np.random.rand(10,2) + np.array([1,0])\n",
    "\n",
    "\n",
    "print(list(map(bool,simple_perceptron.predict(random_test))))\n"
   ]
  },
  {
   "cell_type": "markdown",
   "metadata": {},
   "source": [
    "## Saving the model "
   ]
  },
  {
   "cell_type": "code",
   "execution_count": 28,
   "metadata": {},
   "outputs": [
    {
     "data": {
      "text/plain": [
       "['saved_models/trained_perceptron.pkl']"
      ]
     },
     "execution_count": 28,
     "metadata": {},
     "output_type": "execute_result"
    }
   ],
   "source": [
    "import os\n",
    "import joblib\n",
    "\n",
    "os.makedirs(\"./saved_models\", exist_ok=True)\n",
    "joblib.dump(simple_perceptron,\"saved_models/trained_perceptron.pkl\")\n",
    "\n",
    "#loading the model\n",
    "# iris_perceptron_trained = joblib.load(\"saved_models/trained_perceptron.pkl\")"
   ]
  }
 ],
 "metadata": {
  "kernelspec": {
   "display_name": "Python 3",
   "language": "python",
   "name": "python3"
  },
  "language_info": {
   "codemirror_mode": {
    "name": "ipython",
    "version": 3
   },
   "file_extension": ".py",
   "mimetype": "text/x-python",
   "name": "python",
   "nbconvert_exporter": "python",
   "pygments_lexer": "ipython3",
   "version": "3.7.7"
  }
 },
 "nbformat": 4,
 "nbformat_minor": 4
}
