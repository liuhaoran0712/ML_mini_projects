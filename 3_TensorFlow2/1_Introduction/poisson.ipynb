{
 "cells": [
  {
   "cell_type": "markdown",
   "metadata": {},
   "source": [
    "# Modelling poisson using PINN"
   ]
  },
  {
   "cell_type": "markdown",
   "metadata": {},
   "source": [
    "Solving the poisson equation $-\\Delta u = f$ using a physics informed neural network "
   ]
  },
  {
   "cell_type": "markdown",
   "metadata": {},
   "source": [
    "## 1D problem"
   ]
  },
  {
   "cell_type": "markdown",
   "metadata": {},
   "source": [
    "### Manufactured solution\n"
   ]
  },
  {
   "cell_type": "markdown",
   "metadata": {},
   "source": [
    "We use $u = sin(2*x)$ for $x\\in [0,4]$ to manufacture the right hand side to be $f=sin(x)$"
   ]
  },
  {
   "cell_type": "markdown",
   "metadata": {},
   "source": [
    "### Importing packages"
   ]
  },
  {
   "cell_type": "code",
   "execution_count": 119,
   "metadata": {},
   "outputs": [],
   "source": [
    "import numpy as np\n",
    "import tensorflow as tf\n",
    "from tensorflow import keras\n",
    "import pandas as pd\n",
    "import matplotlib.pyplot as plt\n",
    "%matplotlib inline"
   ]
  },
  {
   "cell_type": "markdown",
   "metadata": {},
   "source": [
    "### Manufacturing data for trainig"
   ]
  },
  {
   "cell_type": "code",
   "execution_count": 120,
   "metadata": {},
   "outputs": [],
   "source": [
    "np.random.seed(123)\n",
    "X_tr_pde = np.random.uniform(0,2*np.pi,2000).reshape(2000,1)\n"
   ]
  },
  {
   "cell_type": "markdown",
   "metadata": {},
   "source": [
    "#### Plotting histogram of randomly selected points to make sure they are uniformly distributed "
   ]
  },
  {
   "cell_type": "code",
   "execution_count": 121,
   "metadata": {},
   "outputs": [
    {
     "data": {
      "text/plain": [
       "Text(0, 0.5, 'frequency ')"
      ]
     },
     "execution_count": 121,
     "metadata": {},
     "output_type": "execute_result"
    },
    {
     "data": {
      "image/png": "[encoded data removed]",
      "text/plain": [
       "<Figure size 432x288 with 1 Axes>"
      ]
     },
     "metadata": {
      "needs_background": "light"
     },
     "output_type": "display_data"
    }
   ],
   "source": [
    "plt.hist(X_tr_pde)\n",
    "plt.xlabel(\"training points\")\n",
    "plt.ylabel(\"frequency \")"
   ]
  },
  {
   "cell_type": "code",
   "execution_count": 122,
   "metadata": {},
   "outputs": [
    {
     "data": {
      "text/plain": [
       "<matplotlib.collections.PathCollection at 0x7fa6a817e7c0>"
      ]
     },
     "execution_count": 122,
     "metadata": {},
     "output_type": "execute_result"
    },
    {
     "data": {
      "image/png": "[encoded data removed]",
      "text/plain": [
       "<Figure size 432x288 with 1 Axes>"
      ]
     },
     "metadata": {
      "needs_background": "light"
     },
     "output_type": "display_data"
    }
   ],
   "source": [
    "Y_tr_pde = 2*np.cos(2*X_tr_pde)\n",
    "plt.scatter(X_tr_pde,Y_tr_pde)"
   ]
  },
  {
   "cell_type": "code",
   "execution_count": 123,
   "metadata": {},
   "outputs": [
    {
     "data": {
      "text/plain": [
       "(2000, 2)"
      ]
     },
     "execution_count": 123,
     "metadata": {},
     "output_type": "execute_result"
    }
   ],
   "source": [
    "Y_tr_pde = np.concatenate([Y_tr_pde,np.zeros((X_tr_pde.size,1))],axis=1)\n",
    "Y_tr_pde.shape"
   ]
  },
  {
   "cell_type": "code",
   "execution_count": 124,
   "metadata": {},
   "outputs": [
    {
     "data": {
      "text/plain": [
       "array([[ 0.0000000e+00,  1.0000000e+00],\n",
       "       [ 0.0000000e+00,  1.0000000e+00],\n",
       "       [ 0.0000000e+00,  1.0000000e+00],\n",
       "       ...,\n",
       "       [-2.4492936e-16,  1.0000000e+00],\n",
       "       [-2.4492936e-16,  1.0000000e+00],\n",
       "       [-2.4492936e-16,  1.0000000e+00]])"
      ]
     },
     "execution_count": 124,
     "metadata": {},
     "output_type": "execute_result"
    }
   ],
   "source": [
    "X_tr_Dr_bc_left = np.zeros(200).reshape(200,1)\n",
    "X_tr_Dr_bc_right = 2*np.pi*np.ones(200).reshape(200,1)\n",
    "X_bc = np.concatenate([X_tr_Dr_bc_left,X_tr_Dr_bc_right],axis=0)\n",
    "\n",
    "Y_tr_Dr_bc_left = np.sin(X_tr_Dr_bc_left)\n",
    "Y_tr_Dr_bc_right = np.sin(X_tr_Dr_bc_right)\n",
    "Y_tr_bc = np.concatenate([Y_tr_Dr_bc_left,Y_tr_Dr_bc_right],axis=0)\n",
    "Y_tr_bc = np.concatenate([Y_tr_bc,np.ones((400,1))],axis=1)\n",
    "Y_tr_bc"
   ]
  },
  {
   "cell_type": "markdown",
   "metadata": {},
   "source": [
    "## Scaling the inputs"
   ]
  },
  {
   "cell_type": "code",
   "execution_count": 125,
   "metadata": {},
   "outputs": [],
   "source": [
    "from sklearn.preprocessing import StandardScaler\n",
    "\n",
    "scaler = StandardScaler()\n",
    "X_tr_pde = scaler.fit_transform(X_tr_pde)"
   ]
  },
  {
   "cell_type": "code",
   "execution_count": 126,
   "metadata": {},
   "outputs": [],
   "source": [
    "X_tr = np.concatenate((X_tr_pde, X_bc), axis=0)\n",
    "Y_tr = np.concatenate((Y_tr_pde, Y_tr_bc), axis=0)"
   ]
  },
  {
   "cell_type": "code",
   "execution_count": 127,
   "metadata": {},
   "outputs": [
    {
     "data": {
      "text/plain": [
       "array([[-1.56429919e+00,  0.00000000e+00],\n",
       "       [-1.79727702e+00,  0.00000000e+00],\n",
       "       [-1.91597615e+00,  0.00000000e+00],\n",
       "       ...,\n",
       "       [-2.44929360e-16,  1.00000000e+00],\n",
       "       [-2.44929360e-16,  1.00000000e+00],\n",
       "       [-2.44929360e-16,  1.00000000e+00]])"
      ]
     },
     "execution_count": 127,
     "metadata": {},
     "output_type": "execute_result"
    }
   ],
   "source": [
    "Y_tr"
   ]
  },
  {
   "cell_type": "markdown",
   "metadata": {},
   "source": [
    "## Training the model"
   ]
  },
  {
   "cell_type": "code",
   "execution_count": 128,
   "metadata": {},
   "outputs": [],
   "source": [
    "from tensorflow.keras import backend as K\n",
    "class CustomModel(tf.keras.Model):\n",
    "\n",
    "    def __init__(self):\n",
    "        super(CustomModel, self).__init__()\n",
    "        self.batch_norm_ = keras.layers.BatchNormalization()\n",
    "        he_kernel_init = keras.initializers.he_uniform()\n",
    "        self.dense_1 = keras.layers.Dense(30, activation=\"elu\",\n",
    "                                          kernel_initializer=he_kernel_init,\n",
    "                                          name=\"dense_1\")\n",
    "        self.dense_2 = keras.layers.Dense(30, activation=\"elu\",\n",
    "                                          kernel_initializer=he_kernel_init,\n",
    "                                         name=\"dense_2\")\n",
    "        self.dense_3 = keras.layers.Dense(1,\n",
    "                                         name=\"dense_3\")\n",
    "\n",
    "    def findGrad(self,func,argm):\n",
    "        return keras.layers.Lambda(lambda x: K.gradients(x[0],x[1])) ([func,argm])\n",
    "    \n",
    "    def call(self, inputs):\n",
    "#         layer_0 = self.batch_norm_(inputs)\n",
    "        layer_1 = self.dense_1(inputs)\n",
    "        layer_2 = self.dense_2(layer_1)\n",
    "        layer_3 = self.dense_3(layer_2)\n",
    "        \n",
    "        grad_layer = self.findGrad(layer_3, inputs)\n",
    "        laplace_layer = self.findGrad(grad_layer, inputs)\n",
    "        \n",
    "        return layer_3, grad_layer\n",
    "\n"
   ]
  },
  {
   "cell_type": "code",
   "execution_count": 129,
   "metadata": {},
   "outputs": [],
   "source": [
    "custom_model = CustomModel()"
   ]
  },
  {
   "cell_type": "code",
   "execution_count": 130,
   "metadata": {},
   "outputs": [],
   "source": [
    "#Loss coming from the boundary terms\n",
    "def u_loss(y_true, y_pred):\n",
    "    y_true_act = y_true[:,:-1]\n",
    "    at_boundary = tf.cast(y_true[:,-1:,],bool)\n",
    "    u_sq_error = (1/2)*tf.square(y_true_act-y_pred)\n",
    "    return tf.where(at_boundary, u_sq_error, 0.)\n",
    "\n",
    "#Loss coming from the PDE constrain\n",
    "def pde_loss(y_true, y_pred):\n",
    "    y_true_act = y_true[:,:-1]\n",
    "    at_boundary = tf.cast(y_true[:,-1:,],bool)\n",
    "    #need to change this to just tf.square(y_pred) after pde constrain is added to grad_layer\n",
    "    pde_sq_error = (1/2)*tf.square(y_true_act-y_pred)\n",
    "    return tf.where(at_boundary,0.,pde_sq_error)"
   ]
  },
  {
   "cell_type": "code",
   "execution_count": 131,
   "metadata": {},
   "outputs": [],
   "source": [
    "custom_model.compile(loss=[u_loss,pde_loss],optimizer=\"nadam\")"
   ]
  },
  {
   "cell_type": "code",
   "execution_count": 132,
   "metadata": {},
   "outputs": [
    {
     "name": "stdout",
     "output_type": "stream",
     "text": [
      "Epoch 1/50\n",
      "188/188 [==============================] - 1s 4ms/step - loss: 0.2931 - output_1_loss: 0.0213 - output_2_1_loss: 0.2718\n",
      "Epoch 2/50\n",
      "188/188 [==============================] - 1s 4ms/step - loss: 0.2289 - output_1_loss: 6.2569e-04 - output_2_1_loss: 0.2282\n",
      "Epoch 3/50\n",
      "188/188 [==============================] - 1s 4ms/step - loss: 0.1876 - output_1_loss: 5.2796e-04 - output_2_1_loss: 0.1871\n",
      "Epoch 4/50\n",
      "188/188 [==============================] - 1s 3ms/step - loss: 0.1150 - output_1_loss: 7.5435e-04 - output_2_1_loss: 0.1143\n",
      "Epoch 5/50\n",
      "188/188 [==============================] - 1s 3ms/step - loss: 0.0385 - output_1_loss: 3.5095e-04 - output_2_1_loss: 0.0381\n",
      "Epoch 6/50\n",
      "188/188 [==============================] - 1s 4ms/step - loss: 0.0107 - output_1_loss: 0.0015 - output_2_1_loss: 0.0092\n",
      "Epoch 7/50\n",
      "188/188 [==============================] - 1s 5ms/step - loss: 0.0048 - output_1_loss: 0.0017 - output_2_1_loss: 0.0031\n",
      "Epoch 8/50\n",
      "188/188 [==============================] - 1s 6ms/step - loss: 0.0015 - output_1_loss: 1.1458e-04 - output_2_1_loss: 0.0013\n",
      "Epoch 9/50\n",
      "188/188 [==============================] - 1s 5ms/step - loss: 0.0029 - output_1_loss: 0.0020 - output_2_1_loss: 9.0864e-04\n",
      "Epoch 10/50\n",
      "188/188 [==============================] - 1s 5ms/step - loss: 0.0019 - output_1_loss: 0.0012 - output_2_1_loss: 6.5580e-04\n",
      "Epoch 11/50\n",
      "188/188 [==============================] - 1s 4ms/step - loss: 0.0020 - output_1_loss: 0.0014 - output_2_1_loss: 6.0884e-04\n",
      "Epoch 12/50\n",
      "188/188 [==============================] - 1s 4ms/step - loss: 0.0034 - output_1_loss: 0.0028 - output_2_1_loss: 6.1017e-04\n",
      "Epoch 13/50\n",
      "188/188 [==============================] - 1s 7ms/step - loss: 5.1292e-04 - output_1_loss: 1.2797e-05 - output_2_1_loss: 5.0012e-04\n",
      "Epoch 14/50\n",
      "188/188 [==============================] - 1s 5ms/step - loss: 0.0019 - output_1_loss: 0.0014 - output_2_1_loss: 5.1952e-04   \n",
      "Epoch 15/50\n",
      "188/188 [==============================] - 1s 4ms/step - loss: 5.1755e-04 - output_1_loss: 4.3385e-05 - output_2_1_loss: 4.7416e-04\n",
      "Epoch 16/50\n",
      "188/188 [==============================] - 1s 6ms/step - loss: 0.0012 - output_1_loss: 6.5632e-04 - output_2_1_loss: 4.9645e-04\n",
      "Epoch 17/50\n",
      "188/188 [==============================] - 1s 6ms/step - loss: 0.0029 - output_1_loss: 0.0023 - output_2_1_loss: 6.3123e-04\n",
      "Epoch 18/50\n",
      "188/188 [==============================] - 1s 4ms/step - loss: 5.6889e-04 - output_1_loss: 1.0547e-04 - output_2_1_loss: 4.6342e-04\n",
      "Epoch 19/50\n",
      "188/188 [==============================] - 1s 5ms/step - loss: 0.0020 - output_1_loss: 0.0015 - output_2_1_loss: 5.2869e-04\n",
      "Epoch 20/50\n",
      "188/188 [==============================] - 1s 5ms/step - loss: 6.9336e-04 - output_1_loss: 2.3697e-04 - output_2_1_loss: 4.5639e-04\n",
      "Epoch 21/50\n",
      "188/188 [==============================] - 1s 4ms/step - loss: 5.5861e-04 - output_1_loss: 1.3088e-04 - output_2_1_loss: 4.2773e-04\n",
      "Epoch 22/50\n",
      "188/188 [==============================] - 1s 4ms/step - loss: 0.0024 - output_1_loss: 0.0019 - output_2_1_loss: 5.2477e-04\n",
      "Epoch 23/50\n",
      "188/188 [==============================] - 1s 4ms/step - loss: 9.3969e-04 - output_1_loss: 4.7630e-04 - output_2_1_loss: 4.6339e-04\n",
      "Epoch 24/50\n",
      "188/188 [==============================] - 1s 5ms/step - loss: 5.8802e-04 - output_1_loss: 1.4395e-04 - output_2_1_loss: 4.4407e-04\n",
      "Epoch 25/50\n",
      "188/188 [==============================] - 1s 5ms/step - loss: 0.0014 - output_1_loss: 9.3890e-04 - output_2_1_loss: 5.0388e-04\n",
      "Epoch 26/50\n",
      "188/188 [==============================] - 1s 5ms/step - loss: 0.0016 - output_1_loss: 0.0011 - output_2_1_loss: 4.9778e-04\n",
      "Epoch 27/50\n",
      "188/188 [==============================] - 1s 5ms/step - loss: 4.6576e-04 - output_1_loss: 5.1239e-05 - output_2_1_loss: 4.1452e-04\n",
      "Epoch 28/50\n",
      "188/188 [==============================] - 1s 4ms/step - loss: 0.0014 - output_1_loss: 8.8289e-04 - output_2_1_loss: 5.0232e-04\n",
      "Epoch 29/50\n",
      "188/188 [==============================] - 1s 4ms/step - loss: 0.0012 - output_1_loss: 6.5962e-04 - output_2_1_loss: 5.1149e-04\n",
      "Epoch 30/50\n",
      "188/188 [==============================] - 1s 5ms/step - loss: 9.5856e-04 - output_1_loss: 5.1280e-04 - output_2_1_loss: 4.4576e-04\n",
      "Epoch 31/50\n",
      "188/188 [==============================] - 1s 4ms/step - loss: 9.9392e-04 - output_1_loss: 5.7330e-04 - output_2_1_loss: 4.2062e-04\n",
      "Epoch 32/50\n",
      "188/188 [==============================] - 1s 3ms/step - loss: 8.3867e-04 - output_1_loss: 3.9446e-04 - output_2_1_loss: 4.4422e-04\n",
      "Epoch 33/50\n",
      "188/188 [==============================] - 1s 4ms/step - loss: 9.4596e-04 - output_1_loss: 5.3040e-04 - output_2_1_loss: 4.1555e-04\n",
      "Epoch 34/50\n",
      "188/188 [==============================] - 1s 5ms/step - loss: 6.4677e-04 - output_1_loss: 2.2709e-04 - output_2_1_loss: 4.1967e-04\n",
      "Epoch 35/50\n",
      "188/188 [==============================] - 1s 5ms/step - loss: 0.0015 - output_1_loss: 9.7893e-04 - output_2_1_loss: 5.0742e-04\n",
      "Epoch 36/50\n",
      "188/188 [==============================] - 1s 5ms/step - loss: 3.9793e-04 - output_1_loss: 2.9124e-05 - output_2_1_loss: 3.6881e-04\n",
      "Epoch 37/50\n",
      "188/188 [==============================] - 1s 5ms/step - loss: 0.0012 - output_1_loss: 7.9714e-04 - output_2_1_loss: 4.2194e-04\n",
      "Epoch 38/50\n",
      "188/188 [==============================] - 1s 6ms/step - loss: 5.4111e-04 - output_1_loss: 1.4164e-04 - output_2_1_loss: 3.9947e-04\n",
      "Epoch 39/50\n",
      "188/188 [==============================] - 1s 6ms/step - loss: 8.0114e-04 - output_1_loss: 3.7548e-04 - output_2_1_loss: 4.2566e-04\n",
      "Epoch 40/50\n",
      "188/188 [==============================] - 1s 5ms/step - loss: 8.1919e-04 - output_1_loss: 4.2525e-04 - output_2_1_loss: 3.9394e-04\n",
      "Epoch 41/50\n",
      "188/188 [==============================] - 1s 6ms/step - loss: 6.2077e-04 - output_1_loss: 2.5508e-04 - output_2_1_loss: 3.6569e-04\n",
      "Epoch 42/50\n",
      "188/188 [==============================] - 1s 5ms/step - loss: 0.0013 - output_1_loss: 8.7023e-04 - output_2_1_loss: 4.0742e-04\n",
      "Epoch 43/50\n",
      "188/188 [==============================] - 1s 5ms/step - loss: 3.8743e-04 - output_1_loss: 4.8152e-05 - output_2_1_loss: 3.3928e-04\n",
      "Epoch 44/50\n",
      "188/188 [==============================] - 1s 3ms/step - loss: 3.8982e-04 - output_1_loss: 5.8219e-05 - output_2_1_loss: 3.3160e-04\n",
      "Epoch 45/50\n",
      "188/188 [==============================] - 1s 6ms/step - loss: 0.0011 - output_1_loss: 6.8578e-04 - output_2_1_loss: 3.8522e-04\n",
      "Epoch 46/50\n",
      "188/188 [==============================] - 1s 5ms/step - loss: 3.8900e-04 - output_1_loss: 7.6128e-05 - output_2_1_loss: 3.1288e-04\n",
      "Epoch 47/50\n",
      "188/188 [==============================] - 1s 6ms/step - loss: 0.0013 - output_1_loss: 8.7212e-04 - output_2_1_loss: 4.0364e-04\n",
      "Epoch 48/50\n",
      "188/188 [==============================] - 1s 5ms/step - loss: 3.1548e-04 - output_1_loss: 1.8137e-05 - output_2_1_loss: 2.9734e-04\n",
      "Epoch 49/50\n",
      "188/188 [==============================] - 1s 4ms/step - loss: 3.8736e-04 - output_1_loss: 6.1178e-05 - output_2_1_loss: 3.2618e-04\n",
      "Epoch 50/50\n",
      "188/188 [==============================] - 1s 6ms/step - loss: 5.6403e-04 - output_1_loss: 2.6915e-04 - output_2_1_loss: 2.9489e-04\n"
     ]
    },
    {
     "data": {
      "text/plain": [
       "<tensorflow.python.keras.callbacks.History at 0x7fa6a8141c70>"
      ]
     },
     "execution_count": 132,
     "metadata": {},
     "output_type": "execute_result"
    }
   ],
   "source": [
    "custom_model.fit(x=X_tr, y=Y_tr,epochs=50)"
   ]
  },
  {
   "cell_type": "code",
   "execution_count": 133,
   "metadata": {},
   "outputs": [
    {
     "name": "stdout",
     "output_type": "stream",
     "text": [
      "Epoch 1/5\n",
      "188/188 [==============================] - 1s 4ms/step - loss: 2.3551e-04 - output_1_loss: 3.9383e-07 - output_2_1_loss: 2.3511e-04\n",
      "Epoch 2/5\n",
      "188/188 [==============================] - 1s 4ms/step - loss: 2.1944e-04 - output_1_loss: 1.4022e-07 - output_2_1_loss: 2.1930e-04\n",
      "Epoch 3/5\n",
      "188/188 [==============================] - 1s 3ms/step - loss: 2.1093e-04 - output_1_loss: 1.2163e-07 - output_2_1_loss: 2.1080e-04\n",
      "Epoch 4/5\n",
      "188/188 [==============================] - 1s 4ms/step - loss: 2.0599e-04 - output_1_loss: 1.2995e-07 - output_2_1_loss: 2.0586e-04\n",
      "Epoch 5/5\n",
      "188/188 [==============================] - 1s 3ms/step - loss: 2.0285e-04 - output_1_loss: 1.5546e-07 - output_2_1_loss: 2.0270e-04\n"
     ]
    },
    {
     "data": {
      "text/plain": [
       "<tensorflow.python.keras.callbacks.History at 0x7fa68af1da30>"
      ]
     },
     "execution_count": 133,
     "metadata": {},
     "output_type": "execute_result"
    }
   ],
   "source": [
    "custom_model.compile(loss=[u_loss,pde_loss],optimizer=keras.optimizers.SGD(lr=1e-4))\n",
    "custom_model.fit(x=X_tr, y=Y_tr,epochs=5)"
   ]
  },
  {
   "cell_type": "code",
   "execution_count": 134,
   "metadata": {},
   "outputs": [],
   "source": [
    "X_test_st = np.random.uniform(0,2*np.pi,500).reshape(500,1)"
   ]
  },
  {
   "cell_type": "code",
   "execution_count": 135,
   "metadata": {},
   "outputs": [],
   "source": [
    "#Scaling test set\n",
    "X_test_st_2 = scaler.transform(X_test_st)"
   ]
  },
  {
   "cell_type": "code",
   "execution_count": 136,
   "metadata": {},
   "outputs": [],
   "source": [
    "Y_test = custom_model.predict(X_test_st_2)"
   ]
  },
  {
   "cell_type": "code",
   "execution_count": 137,
   "metadata": {},
   "outputs": [
    {
     "data": {
      "text/plain": [
       "<matplotlib.collections.PathCollection at 0x7fa68a430460>"
      ]
     },
     "execution_count": 137,
     "metadata": {},
     "output_type": "execute_result"
    },
    {
     "data": {
      "image/png": "[encoded data removed]",
      "text/plain": [
       "<Figure size 432x288 with 1 Axes>"
      ]
     },
     "metadata": {
      "needs_background": "light"
     },
     "output_type": "display_data"
    }
   ],
   "source": [
    "plt.scatter(X_test_st, Y_test[0][:,0])"
   ]
  },
  {
   "cell_type": "code",
   "execution_count": 138,
   "metadata": {},
   "outputs": [
    {
     "data": {
      "text/plain": [
       "<matplotlib.collections.PathCollection at 0x7fa689b39d60>"
      ]
     },
     "execution_count": 138,
     "metadata": {},
     "output_type": "execute_result"
    },
    {
     "data": {
      "image/png": "[encoded data removed]",
      "text/plain": [
       "<Figure size 432x288 with 1 Axes>"
      ]
     },
     "metadata": {
      "needs_background": "light"
     },
     "output_type": "display_data"
    }
   ],
   "source": [
    "plt.scatter(X_test_st,np.sin(2*X_test_st))"
   ]
  },
  {
   "cell_type": "code",
   "execution_count": 117,
   "metadata": {},
   "outputs": [
    {
     "data": {
      "text/plain": [
       "<matplotlib.collections.PathCollection at 0x7fa6a8240b50>"
      ]
     },
     "execution_count": 117,
     "metadata": {},
     "output_type": "execute_result"
    },
    {
     "data": {
      "image/png": "[encoded data removed]",
      "text/plain": [
       "<Figure size 432x288 with 1 Axes>"
      ]
     },
     "metadata": {
      "needs_background": "light"
     },
     "output_type": "display_data"
    }
   ],
   "source": [
    "plt.scatter(Y_test[0][:,0],np.sin(2*X_test_st))"
   ]
  },
  {
   "cell_type": "markdown",
   "metadata": {},
   "source": [
    "### Notes to be made"
   ]
  },
  {
   "cell_type": "markdown",
   "metadata": {},
   "source": [
    "- For second order pde, the dataset has to be normalized inorder to get convergence.\n",
    "- Normalization is a problem for 1d problem since, we cant normalize the bc , which are just two endpoints. So the function converges to a another functin of the same shape, but the aplitudes are different.\n",
    "- Even for the 1d case,  siginificant amount of data was required to make this prediction accurate enough.\n",
    "- Needed 2000 collocation points inside the domain and 200 data points each on the left and right boundary."
   ]
  },
  {
   "cell_type": "markdown",
   "metadata": {},
   "source": [
    "## Things to try next time"
   ]
  },
  {
   "cell_type": "markdown",
   "metadata": {},
   "source": [
    "1. Try giving more weightage to the loss of the boundary condition, since the number of sampling points is less for bc.\n",
    "2. Check whether the problem is solved for time dependent problems or problems in 2d since, there will be more information"
   ]
  },
  {
   "cell_type": "code",
   "execution_count": null,
   "metadata": {},
   "outputs": [],
   "source": []
  },
  {
   "cell_type": "code",
   "execution_count": null,
   "metadata": {},
   "outputs": [],
   "source": []
  }
 ],
 "metadata": {
  "kernelspec": {
   "display_name": "Python 3",
   "language": "python",
   "name": "python3"
  },
  "language_info": {
   "codemirror_mode": {
    "name": "ipython",
    "version": 3
   },
   "file_extension": ".py",
   "mimetype": "text/x-python",
   "name": "python",
   "nbconvert_exporter": "python",
   "pygments_lexer": "ipython3",
   "version": "3.8.3"
  }
 },
 "nbformat": 4,
 "nbformat_minor": 4
}
